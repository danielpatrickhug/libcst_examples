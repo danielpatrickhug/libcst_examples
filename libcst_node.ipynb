{
  "nbformat": 4,
  "nbformat_minor": 0,
  "metadata": {
    "colab": {
      "provenance": [],
      "authorship_tag": "ABX9TyPxyzO6/BzFkVBKrcsU5tRG",
      "include_colab_link": true
    },
    "kernelspec": {
      "name": "python3",
      "display_name": "Python 3"
    },
    "language_info": {
      "name": "python"
    }
  },
  "cells": [
    {
      "cell_type": "markdown",
      "metadata": {
        "id": "view-in-github",
        "colab_type": "text"
      },
      "source": [
        "<a href=\"https://colab.research.google.com/github/danielpatrickhug/libcst_examples/blob/main/libcst_node.ipynb\" target=\"_parent\"><img src=\"https://colab.research.google.com/assets/colab-badge.svg\" alt=\"Open In Colab\"/></a>"
      ]
    },
    {
      "cell_type": "markdown",
      "source": [
        "## Nodes\n",
        "CSTNode and its subclasses cover Python’s full grammar in a whitespace-sensitive fashion, forming LibCST’s concrete syntax tree.\n",
        "\n",
        "Many of these nodes are designed to behave similarly to [Python’s abstract syntax tree.](https://greentreesnakes.readthedocs.io/en/latest/nodes.html)"
      ],
      "metadata": {
        "id": "VS4UE2Z3MlUc"
      }
    },
    {
      "cell_type": "markdown",
      "source": [
        "[Based](https://libcst.readthedocs.io/en/latest/nodes.html)"
      ],
      "metadata": {
        "id": "hj6eV6hwMhdB"
      }
    },
    {
      "cell_type": "markdown",
      "source": [
        "### CSTNode"
      ],
      "metadata": {
        "id": "LH9OhC9-hQAD"
      }
    },
    {
      "cell_type": "markdown",
      "source": [
        "#### with_changes()\n",
        "\n",
        "This function is used to perform mutation-like operations on immutable nodes. Here is an example of how to use it:"
      ],
      "metadata": {
        "id": "9atOnuY9NQTE"
      }
    },
    {
      "cell_type": "code",
      "source": [
        "!pip install libcst"
      ],
      "metadata": {
        "id": "y7aFcLbhNV6i"
      },
      "execution_count": null,
      "outputs": []
    },
    {
      "cell_type": "code",
      "execution_count": 10,
      "metadata": {
        "colab": {
          "base_uri": "https://localhost:8080/"
        },
        "id": "kqM1lgv2MWZm",
        "outputId": "29dfbef7-b2d7-4cf9-8359-0b916a6242f4"
      },
      "outputs": [
        {
          "output_type": "stream",
          "name": "stdout",
          "text": [
            "If(\n",
            "    test=Name(\n",
            "        value='False',\n",
            "        lpar=[],\n",
            "        rpar=[],\n",
            "    ),\n",
            "    body=SimpleStatementSuite(\n",
            "        body=[\n",
            "            Pass(\n",
            "                semicolon=MaybeSentinel.DEFAULT,\n",
            "            ),\n",
            "        ],\n",
            "        leading_whitespace=SimpleWhitespace(\n",
            "            value=' ',\n",
            "        ),\n",
            "        trailing_whitespace=TrailingWhitespace(\n",
            "            whitespace=SimpleWhitespace(\n",
            "                value='',\n",
            "            ),\n",
            "            comment=None,\n",
            "            newline=Newline(\n",
            "                value=None,\n",
            "            ),\n",
            "        ),\n",
            "    ),\n",
            "    orelse=None,\n",
            "    leading_lines=[],\n",
            "    whitespace_before_test=SimpleWhitespace(\n",
            "        value=' ',\n",
            "    ),\n",
            "    whitespace_after_test=SimpleWhitespace(\n",
            "        value='',\n",
            "    ),\n",
            ")\n"
          ]
        }
      ],
      "source": [
        "import libcst as cst\n",
        "\n",
        "\n",
        "def update_conditional(node, new_conditional):\n",
        "    new_node = node.with_changes(test=new_conditional)\n",
        "    return new_node\n",
        "\n",
        "tree = cst.parse_module(\"if True: pass\")\n",
        "new_conditional = cst.parse_expression(\"False\")\n",
        "updated_tree = update_conditional(tree.body[0], new_conditional)\n",
        "print(updated_tree)\n"
      ]
    },
    {
      "cell_type": "code",
      "source": [
        "import libcst as cst\n",
        "\n",
        "def update_conditional(tree, new_conditional):\n",
        "    if_node = tree.body[0]\n",
        "    new_node = if_node.with_changes(test=new_conditional)\n",
        "    updated_tree = tree.with_changes(body=[new_node])\n",
        "    return updated_tree\n",
        "\n",
        "tree = cst.parse_module(\"if True: pass\")\n",
        "new_conditional = cst.parse_expression(\"False\")\n",
        "updated_tree = update_conditional(tree, new_conditional)\n",
        "print(updated_tree.code)\n"
      ],
      "metadata": {
        "colab": {
          "base_uri": "https://localhost:8080/"
        },
        "id": "xItrKrgnOcka",
        "outputId": "14bccd44-1f70-4108-f013-6f13faf741eb"
      },
      "execution_count": 11,
      "outputs": [
        {
          "output_type": "stream",
          "name": "stdout",
          "text": [
            "if False: pass\n"
          ]
        }
      ]
    },
    {
      "cell_type": "markdown",
      "source": [
        "#### deep_clone()\n",
        "\n",
        "This function is used to make a clone of a CSTNode. Here is an example of how to use it:"
      ],
      "metadata": {
        "id": "m_jeXja7OkE6"
      }
    },
    {
      "cell_type": "code",
      "source": [
        "import libcst as cst\n",
        "\n",
        "tree = cst.parse_expression(\"1+2\")\n",
        "cloned_tree = tree.deep_clone()\n",
        "\n",
        "print(tree == cloned_tree)  # False: They are not the same object\n",
        "print(tree.deep_equals(cloned_tree))  # True: They are equivalent trees\n"
      ],
      "metadata": {
        "colab": {
          "base_uri": "https://localhost:8080/"
        },
        "id": "wzSLqe4hNTcZ",
        "outputId": "c69a4c59-5a89-4939-f1ec-781ff5d8b851"
      },
      "execution_count": 4,
      "outputs": [
        {
          "output_type": "stream",
          "name": "stdout",
          "text": [
            "False\n",
            "True\n"
          ]
        }
      ]
    },
    {
      "cell_type": "markdown",
      "source": [
        "#### deep_replace()\n",
        "\n",
        "This function is used to replace a node in the CST. Here is an example of how to use it:"
      ],
      "metadata": {
        "id": "L6A_DrT4Ops5"
      }
    },
    {
      "cell_type": "code",
      "source": [
        "import libcst as cst\n",
        "\n",
        "tree = cst.parse_module(\"x = 1\\ny = 2\")\n",
        "old_node = tree.body[0]  # the node representing 'x = 1'\n",
        "new_node = cst.parse_statement(\"x = 3\")  # new statement node\n",
        "\n",
        "new_tree = tree.deep_replace(old_node, new_node)\n",
        "print(new_tree.code)\n"
      ],
      "metadata": {
        "colab": {
          "base_uri": "https://localhost:8080/"
        },
        "id": "0QVsKPl1Nf3N",
        "outputId": "81e1aa23-993a-4bbc-ff76-afb11fc13a70"
      },
      "execution_count": 5,
      "outputs": [
        {
          "output_type": "stream",
          "name": "stdout",
          "text": [
            "x = 3\n",
            "y = 2\n"
          ]
        }
      ]
    },
    {
      "cell_type": "markdown",
      "source": [
        "#### deep_remove()\n",
        "\n",
        "This function is used to remove a node from the CST. Here is an example of how to use it:"
      ],
      "metadata": {
        "id": "d4_pVK6eOuDC"
      }
    },
    {
      "cell_type": "code",
      "source": [
        "import libcst as cst\n",
        "\n",
        "tree = cst.parse_module(\"x = 1\\ny = 2\")\n",
        "node_to_remove = tree.body[0]  # the node representing 'x = 1'\n",
        "\n",
        "new_tree = tree.deep_remove(node_to_remove)\n",
        "print(new_tree.code)\n"
      ],
      "metadata": {
        "colab": {
          "base_uri": "https://localhost:8080/"
        },
        "id": "J8XahfZuNjO7",
        "outputId": "14c463dd-01db-43bf-91c8-922a0fc6bbd9"
      },
      "execution_count": 6,
      "outputs": [
        {
          "output_type": "stream",
          "name": "stdout",
          "text": [
            "y = 2\n"
          ]
        }
      ]
    },
    {
      "cell_type": "markdown",
      "source": [
        "## Modules\n",
        "A node that represents an entire python module."
      ],
      "metadata": {
        "id": "vcWDx25-PQC8"
      }
    },
    {
      "cell_type": "markdown",
      "source": [
        "### visit()\n",
        "\n",
        "This function is used to run a visitor over the module. Here's an example of how you can use it:"
      ],
      "metadata": {
        "id": "XcskW00GPt74"
      }
    },
    {
      "cell_type": "code",
      "source": [
        "import libcst as cst\n",
        "import libcst.matchers as m\n",
        "\n",
        "class FunctionNameVisitor(cst.CSTVisitor):\n",
        "    def visit_FunctionDef(self, node: cst.FunctionDef) -> None:\n",
        "        print(\"Function name:\", node.name.value)\n",
        "\n",
        "module = cst.parse_module(\"def foo(): pass\\ndef bar(): pass\")\n",
        "module.visit(FunctionNameVisitor())\n"
      ],
      "metadata": {
        "colab": {
          "base_uri": "https://localhost:8080/"
        },
        "id": "BX45W6iRNlYL",
        "outputId": "e07075b1-7dc0-45f2-8c43-263c7ca6b593"
      },
      "execution_count": 12,
      "outputs": [
        {
          "output_type": "stream",
          "name": "stdout",
          "text": [
            "Function name: foo\n",
            "Function name: bar\n"
          ]
        },
        {
          "output_type": "execute_result",
          "data": {
            "text/plain": [
              "Module(\n",
              "    body=[\n",
              "        FunctionDef(\n",
              "            name=Name(\n",
              "                value='foo',\n",
              "                lpar=[],\n",
              "                rpar=[],\n",
              "            ),\n",
              "            params=Parameters(\n",
              "                params=[],\n",
              "                star_arg=MaybeSentinel.DEFAULT,\n",
              "                kwonly_params=[],\n",
              "                star_kwarg=None,\n",
              "                posonly_params=[],\n",
              "                posonly_ind=MaybeSentinel.DEFAULT,\n",
              "            ),\n",
              "            body=SimpleStatementSuite(\n",
              "                body=[\n",
              "                    Pass(\n",
              "                        semicolon=MaybeSentinel.DEFAULT,\n",
              "                    ),\n",
              "                ],\n",
              "                leading_whitespace=SimpleWhitespace(\n",
              "                    value=' ',\n",
              "                ),\n",
              "                trailing_whitespace=TrailingWhitespace(\n",
              "                    whitespace=SimpleWhitespace(\n",
              "                        value='',\n",
              "                    ),\n",
              "                    comment=None,\n",
              "                    newline=Newline(\n",
              "                        value=None,\n",
              "                    ),\n",
              "                ),\n",
              "            ),\n",
              "            decorators=[],\n",
              "            returns=None,\n",
              "            asynchronous=None,\n",
              "            leading_lines=[],\n",
              "            lines_after_decorators=[],\n",
              "            whitespace_after_def=SimpleWhitespace(\n",
              "                value=' ',\n",
              "            ),\n",
              "            whitespace_after_name=SimpleWhitespace(\n",
              "                value='',\n",
              "            ),\n",
              "            whitespace_before_params=SimpleWhitespace(\n",
              "                value='',\n",
              "            ),\n",
              "            whitespace_before_colon=SimpleWhitespace(\n",
              "                value='',\n",
              "            ),\n",
              "        ),\n",
              "        FunctionDef(\n",
              "            name=Name(\n",
              "                value='bar',\n",
              "                lpar=[],\n",
              "                rpar=[],\n",
              "            ),\n",
              "            params=Parameters(\n",
              "                params=[],\n",
              "                star_arg=MaybeSentinel.DEFAULT,\n",
              "                kwonly_params=[],\n",
              "                star_kwarg=None,\n",
              "                posonly_params=[],\n",
              "                posonly_ind=MaybeSentinel.DEFAULT,\n",
              "            ),\n",
              "            body=SimpleStatementSuite(\n",
              "                body=[\n",
              "                    Pass(\n",
              "                        semicolon=MaybeSentinel.DEFAULT,\n",
              "                    ),\n",
              "                ],\n",
              "                leading_whitespace=SimpleWhitespace(\n",
              "                    value=' ',\n",
              "                ),\n",
              "                trailing_whitespace=TrailingWhitespace(\n",
              "                    whitespace=SimpleWhitespace(\n",
              "                        value='',\n",
              "                    ),\n",
              "                    comment=None,\n",
              "                    newline=Newline(\n",
              "                        value=None,\n",
              "                    ),\n",
              "                ),\n",
              "            ),\n",
              "            decorators=[],\n",
              "            returns=None,\n",
              "            asynchronous=None,\n",
              "            leading_lines=[],\n",
              "            lines_after_decorators=[],\n",
              "            whitespace_after_def=SimpleWhitespace(\n",
              "                value=' ',\n",
              "            ),\n",
              "            whitespace_after_name=SimpleWhitespace(\n",
              "                value='',\n",
              "            ),\n",
              "            whitespace_before_params=SimpleWhitespace(\n",
              "                value='',\n",
              "            ),\n",
              "            whitespace_before_colon=SimpleWhitespace(\n",
              "                value='',\n",
              "            ),\n",
              "        ),\n",
              "    ],\n",
              "    header=[],\n",
              "    footer=[],\n",
              "    encoding='utf-8',\n",
              "    default_indent='    ',\n",
              "    default_newline='\\n',\n",
              "    has_trailing_newline=False,\n",
              ")"
            ]
          },
          "metadata": {},
          "execution_count": 12
        }
      ]
    },
    {
      "cell_type": "markdown",
      "source": [
        "### code property\n",
        "\n",
        "This property gives the string representation of the module. Here's how you can use it:"
      ],
      "metadata": {
        "id": "mI3tDyG1QAov"
      }
    },
    {
      "cell_type": "code",
      "source": [
        "import libcst as cst\n",
        "\n",
        "module = cst.parse_module(\"def foo(): pass\\ndef bar(): pass\")\n",
        "print(module.code)\n"
      ],
      "metadata": {
        "colab": {
          "base_uri": "https://localhost:8080/"
        },
        "id": "wmvtf3kWP6IX",
        "outputId": "226add94-2b96-45e1-d1f1-2ac8a34c1554"
      },
      "execution_count": 13,
      "outputs": [
        {
          "output_type": "stream",
          "name": "stdout",
          "text": [
            "def foo(): pass\n",
            "def bar(): pass\n"
          ]
        }
      ]
    },
    {
      "cell_type": "markdown",
      "source": [
        "### bytes property\n",
        "\n",
        "This property gives the bytes representation of the module. Here's how you can use it:"
      ],
      "metadata": {
        "id": "cL_QguKNQHjg"
      }
    },
    {
      "cell_type": "code",
      "source": [
        "import libcst as cst\n",
        "\n",
        "module = cst.parse_module(\"def foo(): pass\\ndef bar(): pass\")\n",
        "print(module.bytes)\n"
      ],
      "metadata": {
        "colab": {
          "base_uri": "https://localhost:8080/"
        },
        "id": "Ul07i087QESl",
        "outputId": "8a9d3c7a-cdc1-40f5-d47c-ad457b420afd"
      },
      "execution_count": 14,
      "outputs": [
        {
          "output_type": "stream",
          "name": "stdout",
          "text": [
            "b'def foo(): pass\\ndef bar(): pass'\n"
          ]
        }
      ]
    },
    {
      "cell_type": "markdown",
      "source": [
        "### code_for_node()\n",
        "\n",
        "This method generates the code for a given node in the context of the module:"
      ],
      "metadata": {
        "id": "tx_oGd14QTFi"
      }
    },
    {
      "cell_type": "code",
      "source": [
        "import libcst as cst\n",
        "\n",
        "module = cst.parse_module(\"def foo(): pass\\ndef bar(): pass\")\n",
        "function_node = module.body[0]\n",
        "print(module.code_for_node(function_node))\n"
      ],
      "metadata": {
        "colab": {
          "base_uri": "https://localhost:8080/"
        },
        "id": "8bPbDzjMQL0Y",
        "outputId": "c9fad443-9757-4fea-e762-24f85c90961c"
      },
      "execution_count": 15,
      "outputs": [
        {
          "output_type": "stream",
          "name": "stdout",
          "text": [
            "def foo(): pass\n",
            "\n"
          ]
        }
      ]
    },
    {
      "cell_type": "markdown",
      "source": [
        "### config_for_parsing property\n",
        "\n",
        "This property generates a parser config suitable for passing to a *parse_expression()* or *parse_statement()* call:"
      ],
      "metadata": {
        "id": "-9UA0XD1QZH4"
      }
    },
    {
      "cell_type": "code",
      "source": [
        "import libcst as cst\n",
        "\n",
        "module = cst.parse_module(\"def foo(): pass\\ndef bar(): pass\")\n",
        "expression = cst.parse_expression(\"1 + 2\", config=module.config_for_parsing)\n",
        "print(expression)\n"
      ],
      "metadata": {
        "colab": {
          "base_uri": "https://localhost:8080/"
        },
        "id": "wr4zSc11QVgf",
        "outputId": "b7b82064-bdde-4d0b-a060-e6c10d406ee1"
      },
      "execution_count": 16,
      "outputs": [
        {
          "output_type": "stream",
          "name": "stdout",
          "text": [
            "BinaryOperation(\n",
            "    left=Integer(\n",
            "        value='1',\n",
            "        lpar=[],\n",
            "        rpar=[],\n",
            "    ),\n",
            "    operator=Add(\n",
            "        whitespace_before=SimpleWhitespace(\n",
            "            value=' ',\n",
            "        ),\n",
            "        whitespace_after=SimpleWhitespace(\n",
            "            value=' ',\n",
            "        ),\n",
            "    ),\n",
            "    right=Integer(\n",
            "        value='2',\n",
            "        lpar=[],\n",
            "        rpar=[],\n",
            "    ),\n",
            "    lpar=[],\n",
            "    rpar=[],\n",
            ")\n"
          ]
        }
      ]
    },
    {
      "cell_type": "markdown",
      "source": [
        "### get_docstring()\n",
        "\n",
        "This method returns a cleaned docstring if the docstring is available:"
      ],
      "metadata": {
        "id": "HK5RlpWlQ0Vl"
      }
    },
    {
      "cell_type": "code",
      "source": [
        "source_code = \"\"\"\n",
        "\\\"\\\"\\\"\n",
        "This is a docstring.\n",
        "\\\"\\\"\\\"\n",
        "\n",
        "def foo():\n",
        "    pass\n",
        "\n",
        "def bar(x, y):\n",
        "    return x + y\n",
        "\"\"\"\n",
        "module = cst.parse_module(source_code)\n",
        "print(module.get_docstring())"
      ],
      "metadata": {
        "colab": {
          "base_uri": "https://localhost:8080/"
        },
        "id": "Cxg38rpBQh0-",
        "outputId": "b22a612b-b370-4f4d-f787-a1d46887cd3d"
      },
      "execution_count": 17,
      "outputs": [
        {
          "output_type": "stream",
          "name": "stdout",
          "text": [
            "This is a docstring.\n"
          ]
        }
      ]
    },
    {
      "cell_type": "markdown",
      "source": [
        "## Expressions\n",
        "An expression is anything that represents a value (e.g. it could be returned from a function). All expressions subclass from BaseExpression.\n",
        "\n",
        "Expression can be parsed with parse_expression() or as part of a statement or module using parse_statement() or parse_module()."
      ],
      "metadata": {
        "id": "YDaTjYIBRgeM"
      }
    },
    {
      "cell_type": "markdown",
      "source": [
        "### Names and Object Attributes:"
      ],
      "metadata": {
        "id": "nIJwdj2KR3ml"
      }
    },
    {
      "cell_type": "code",
      "source": [
        "import libcst as cst\n",
        "\n",
        "# Name\n",
        "name = cst.Name(value=\"x\")\n",
        "#print(name)\n",
        "print(cst.Module([name]).code)\n",
        "\n",
        "\n",
        "# Attribute\n",
        "attribute = cst.Attribute(value=cst.Name(\"x\"), attr=cst.Name(\"y\"))\n",
        "#print(attribute)\n",
        "print(cst.Module([attribute]).code)\n",
        "\n"
      ],
      "metadata": {
        "colab": {
          "base_uri": "https://localhost:8080/"
        },
        "id": "oUsL9D2NRjD6",
        "outputId": "46c934ff-8823-4e87-af1d-700585f033ee"
      },
      "execution_count": 42,
      "outputs": [
        {
          "output_type": "stream",
          "name": "stdout",
          "text": [
            "x\n",
            "x.y\n"
          ]
        }
      ]
    },
    {
      "cell_type": "markdown",
      "source": [
        "### Operations and Comparisons:"
      ],
      "metadata": {
        "id": "jFOlaeAjSJYs"
      }
    },
    {
      "cell_type": "code",
      "source": [
        "# UnaryOperation\n",
        "unary_operation = cst.UnaryOperation(operator=cst.Not(), expression=cst.Name(\"x\"))\n",
        "#print(unary_operation) #print CST\n",
        "print(cst.Module([unary_operation]).code)\n",
        "\n",
        "\n",
        "# BinaryOperation\n",
        "binary_operation = cst.BinaryOperation(left=cst.Name(\"x\"), operator=cst.Add(), right=cst.Name(\"y\"))\n",
        "#print(binary_operation) #print CST\n",
        "print(cst.Module([binary_operation]).code)\n",
        "\n",
        "\n",
        "# BooleanOperation\n",
        "boolean_operation = cst.BooleanOperation(left=cst.Name(\"x\"), operator=cst.And(), right=cst.Name(\"y\"))\n",
        "#print(boolean_operation) #print CST\n",
        "print(cst.Module([boolean_operation]).code)\n",
        "\n",
        "\n",
        "# Comparison\n",
        "comparison = cst.Comparison(\n",
        "    left=cst.Name(\"x\"), \n",
        "    comparisons=[\n",
        "        cst.ComparisonTarget(operator=cst.LessThan(), comparator=cst.Name(\"y\")),\n",
        "        cst.ComparisonTarget(operator=cst.LessThan(), comparator=cst.Name(\"z\"))\n",
        "    ]\n",
        ")\n",
        "#print(comparison) #print CST\n",
        "print(cst.Module([comparison]).code)\n"
      ],
      "metadata": {
        "colab": {
          "base_uri": "https://localhost:8080/"
        },
        "id": "5Tfd1TjeSJ3A",
        "outputId": "0b9e457c-d73a-428f-fb5b-f631c66a149e"
      },
      "execution_count": 41,
      "outputs": [
        {
          "output_type": "stream",
          "name": "stdout",
          "text": [
            "not x\n",
            "x + y\n",
            "x and y\n",
            "x < y < z\n"
          ]
        }
      ]
    },
    {
      "cell_type": "markdown",
      "source": [
        "### Control Flow"
      ],
      "metadata": {
        "id": "eRzVi1TASVVl"
      }
    },
    {
      "cell_type": "code",
      "source": [
        "# Asynchronous\n",
        "asynchronous = cst.Asynchronous()\n",
        "#print(asynchronous) #print CST\n",
        "print(cst.Module([asynchronous]).code)\n",
        "\n",
        "# Await\n",
        "await_expr = cst.Await(expression=cst.Name(\"x\"))\n",
        "#print(await_expr) #print CST\n",
        "print(cst.Module([await_expr]).code)\n",
        "\n",
        "# Yield\n",
        "yield_expr = cst.Yield(value=cst.Name(\"x\"))\n",
        "#print(yield_expr) #print CST\n",
        "print(cst.Module([yield_expr]).code)\n",
        "\n",
        "\n",
        "# From\n",
        "from_expr = cst.From(item=cst.Name(\"x\"))\n",
        "#print(from_expr) #print CST\n",
        "print(cst.Module([from_expr]).code)\n",
        "\n",
        "# IfExp\n",
        "if_exp = cst.IfExp(test=cst.Name(\"x\"), body=cst.Name(\"y\"), orelse=cst.Name(\"z\"))\n",
        "#print(if_exp) #print CST\n",
        "print(cst.Module([if_exp]).code)\n",
        "\n",
        "\n"
      ],
      "metadata": {
        "colab": {
          "base_uri": "https://localhost:8080/"
        },
        "id": "eHsCZhhnSKTs",
        "outputId": "b5d9e03f-ca77-434c-9271-aa1d2abfb89f"
      },
      "execution_count": 37,
      "outputs": [
        {
          "output_type": "stream",
          "name": "stdout",
          "text": [
            "async \n",
            "await x\n",
            "yield x\n",
            "from x\n",
            "y if x else z\n"
          ]
        }
      ]
    },
    {
      "cell_type": "markdown",
      "source": [
        "### Lambdas and Function Calls:"
      ],
      "metadata": {
        "id": "p4wlfxUuSjh8"
      }
    },
    {
      "cell_type": "code",
      "source": [
        "# Lambda\n",
        "lambda_expr = cst.Lambda(\n",
        "    params=cst.Parameters(params=[cst.Param(name=cst.Name(\"arg\"))]), \n",
        "    body=cst.Ellipsis()\n",
        ")\n",
        "#print(lambda_expr)\n",
        "print(cst.Module([lambda_expr]).code)\n",
        "\n",
        "\n",
        "# Call\n",
        "call_expr = cst.Call(\n",
        "    func=cst.Name(\"do_math\"), \n",
        "    args=[\n",
        "        cst.Arg(value=cst.Integer(\"1\")),\n",
        "        cst.Arg(value=cst.Integer(\"2\"))\n",
        "    ]\n",
        ")\n",
        "#print(call_expr)\n",
        "print(cst.Module([call_expr]).code)\n",
        "\n",
        "# Arg\n",
        "arg = cst.Arg(value=cst.Name(\"x\"))\n",
        "print(cst.Module([arg]).code)\n"
      ],
      "metadata": {
        "colab": {
          "base_uri": "https://localhost:8080/"
        },
        "id": "gOlsgEw6SZKG",
        "outputId": "e0ab2c1a-7e2d-44c4-d9a9-ee798105fa0c"
      },
      "execution_count": 33,
      "outputs": [
        {
          "output_type": "stream",
          "name": "stdout",
          "text": [
            "lambda arg: ...\n",
            "do_math(1, 2)\n",
            "x\n"
          ]
        }
      ]
    },
    {
      "cell_type": "code",
      "source": [
        "import libcst as cst\n",
        "\n",
        "# Define an async web server route\n",
        "async_def = cst.FunctionDef(\n",
        "    name=cst.Name(\"handle\"),\n",
        "    params=cst.Parameters(params=[\n",
        "        cst.Param(name=cst.Name(\"request\"))\n",
        "    ]),\n",
        "    body=cst.IndentedBlock(\n",
        "        body=[\n",
        "            cst.SimpleStatementLine(\n",
        "                body=[\n",
        "                    cst.Expr(\n",
        "                        cst.Await(\n",
        "                            expression=cst.Call(\n",
        "                                func=cst.Attribute(\n",
        "                                    value=cst.Name(\"request\"),\n",
        "                                    attr=cst.Name(\"text\")\n",
        "                                )\n",
        "                            )\n",
        "                        )\n",
        "                    )\n",
        "                ]\n",
        "            ),\n",
        "            cst.If(\n",
        "                test=cst.Comparison(\n",
        "                    left=cst.Name(\"request\"),\n",
        "                    comparisons=[\n",
        "                        cst.ComparisonTarget(\n",
        "                            operator=cst.Equal(),\n",
        "                            comparator=cst.SimpleString('\"shutdown\"')\n",
        "                        )\n",
        "                    ]\n",
        "                ),\n",
        "                body=cst.IndentedBlock(\n",
        "                    body=[\n",
        "                        cst.SimpleStatementLine(\n",
        "                            body=[\n",
        "                                cst.Expr(\n",
        "                                    cst.Await(\n",
        "                                        expression=cst.Call(\n",
        "                                            func=cst.Name(\"shutdown\"),\n",
        "                                            args=[\n",
        "                                                cst.Arg(value=cst.Name(\"request\"))\n",
        "                                            ]\n",
        "                                        )\n",
        "                                    )\n",
        "                                )\n",
        "                            ]\n",
        "                        )\n",
        "                    ]\n",
        "                ),\n",
        "                orelse=cst.IndentedBlock(\n",
        "                    body=[\n",
        "                        cst.SimpleStatementLine(\n",
        "                            body=[\n",
        "                                cst.Return(\n",
        "                                    value=cst.Call(\n",
        "                                        func=cst.Attribute(\n",
        "                                            value=cst.Attribute(\n",
        "                                                value=cst.Name(\"aiohttp\"),\n",
        "                                                attr=cst.Name(\"web\")\n",
        "                                            ),\n",
        "                                            attr=cst.Name(\"Response\")\n",
        "                                        ),\n",
        "                                        args=[\n",
        "                                            cst.Arg(\n",
        "                                                keyword=cst.Name(\"text\"), \n",
        "                                                equal=cst.AssignEqual(), \n",
        "                                                value=cst.SimpleString('\"Hello, world!\"')\n",
        "                                            )\n",
        "                                        ]\n",
        "                                    )\n",
        "                                )\n",
        "                            ]\n",
        "                        )\n",
        "                    ]\n",
        "                )\n",
        "            )\n",
        "        ]\n",
        "    ),\n",
        "    returns=None,\n",
        "    asynchronous=cst.Asynchronous()\n",
        ")\n",
        "\n",
        "# Create a module with the function\n",
        "module = cst.Module([async_def])\n",
        "\n",
        "# Print the generated code\n",
        "print(module.code)\n"
      ],
      "metadata": {
        "colab": {
          "base_uri": "https://localhost:8080/"
        },
        "id": "kA4SS7QyS8Wa",
        "outputId": "2262724c-ee2e-490c-9987-167e3727b7df"
      },
      "execution_count": 43,
      "outputs": [
        {
          "output_type": "stream",
          "name": "stdout",
          "text": [
            "async def handle(request):\n",
            "    await request.text()\n",
            "    if request == \"shutdown\":\n",
            "        await shutdown(request)\n",
            "\n",
            "        return aiohttp.web.Response(text = \"Hello, world!\")\n",
            "\n"
          ]
        }
      ]
    },
    {
      "cell_type": "markdown",
      "source": [
        "### Literal Values"
      ],
      "metadata": {
        "id": "FOq9TbtLW5G7"
      }
    },
    {
      "cell_type": "markdown",
      "source": [
        "#### Integer Literals"
      ],
      "metadata": {
        "id": "pu49HETeW9EL"
      }
    },
    {
      "cell_type": "code",
      "source": [
        "from libcst import Integer, Module\n",
        "\n",
        "int_expr = Integer(\"123\")\n",
        "# print(int_expr)\n",
        "print(Module([int_expr]).code)\n"
      ],
      "metadata": {
        "colab": {
          "base_uri": "https://localhost:8080/"
        },
        "id": "YegSM2lQTTlq",
        "outputId": "f6e91de3-2ffc-4c7a-b36b-a9f2d80dab8b"
      },
      "execution_count": 44,
      "outputs": [
        {
          "output_type": "stream",
          "name": "stdout",
          "text": [
            "123\n"
          ]
        }
      ]
    },
    {
      "cell_type": "markdown",
      "source": [
        "#### Float Literals\n"
      ],
      "metadata": {
        "id": "5YP7PIGpXAGK"
      }
    },
    {
      "cell_type": "code",
      "source": [
        "from libcst import Float, Module\n",
        "\n",
        "float_expr = Float(\"123.456\")\n",
        "# print(float_expr)\n",
        "print(Module([float_expr]).code)\n"
      ],
      "metadata": {
        "colab": {
          "base_uri": "https://localhost:8080/"
        },
        "id": "ZcRCySzNW7Pi",
        "outputId": "00894744-a0db-4a71-c3a4-483a6e8e40f6"
      },
      "execution_count": 45,
      "outputs": [
        {
          "output_type": "stream",
          "name": "stdout",
          "text": [
            "123.456\n"
          ]
        }
      ]
    },
    {
      "cell_type": "markdown",
      "source": [
        "#### Imaginary Literals"
      ],
      "metadata": {
        "id": "PSr1mmBMXI5D"
      }
    },
    {
      "cell_type": "code",
      "source": [
        "from libcst import Imaginary, Module\n",
        "\n",
        "imag_expr = Imaginary(\"123j\")\n",
        "# print(imag_expr)\n",
        "print(Module([imag_expr]).code)\n"
      ],
      "metadata": {
        "colab": {
          "base_uri": "https://localhost:8080/"
        },
        "id": "PvVP8kg-XGPJ",
        "outputId": "710c5ae3-a881-4b32-c151-beeb7e321069"
      },
      "execution_count": 46,
      "outputs": [
        {
          "output_type": "stream",
          "name": "stdout",
          "text": [
            "123j\n"
          ]
        }
      ]
    },
    {
      "cell_type": "markdown",
      "source": [
        "#### SimpleString Literal"
      ],
      "metadata": {
        "id": "mxdo4Ob-XRED"
      }
    },
    {
      "cell_type": "code",
      "source": [
        "from libcst import SimpleString, Module\n",
        "\n",
        "string_expr = SimpleString(\"'Hello, world!'\")\n",
        "# print(string_expr)\n",
        "print(Module([string_expr]).code)\n"
      ],
      "metadata": {
        "colab": {
          "base_uri": "https://localhost:8080/"
        },
        "id": "biMXhcd0XNLO",
        "outputId": "70c9250e-dbdc-44a7-de30-527eaf99af79"
      },
      "execution_count": 47,
      "outputs": [
        {
          "output_type": "stream",
          "name": "stdout",
          "text": [
            "'Hello, world!'\n"
          ]
        }
      ]
    },
    {
      "cell_type": "markdown",
      "source": [
        "#### ConcatenatedString Literal"
      ],
      "metadata": {
        "id": "2OuuZSPTXWU7"
      }
    },
    {
      "cell_type": "code",
      "source": [
        "from libcst import ConcatenatedString, SimpleString, Module\n",
        "\n",
        "concat_expr = ConcatenatedString(\n",
        "    left=SimpleString(\"'Hello,'\"),\n",
        "    right=SimpleString(\"' world!'\"),\n",
        "    lpar=[],\n",
        "    rpar=[],\n",
        "    whitespace_between=cst.SimpleWhitespace(' ')\n",
        ")\n",
        "# print(concat_expr)\n",
        "print(Module([concat_expr]).code)\n"
      ],
      "metadata": {
        "colab": {
          "base_uri": "https://localhost:8080/"
        },
        "id": "R8oWqEIDXTU2",
        "outputId": "f42be373-a37f-4f3b-f754-b08af6e8ca8c"
      },
      "execution_count": 48,
      "outputs": [
        {
          "output_type": "stream",
          "name": "stdout",
          "text": [
            "'Hello,' ' world!'\n"
          ]
        }
      ]
    },
    {
      "cell_type": "markdown",
      "source": [
        "#### FormattedString Literal"
      ],
      "metadata": {
        "id": "QYWq-CyMXe7W"
      }
    },
    {
      "cell_type": "code",
      "source": [
        "from libcst import FormattedString, FormattedStringText, FormattedStringExpression, Name, Module\n",
        "\n",
        "fstring_expr = FormattedString(\n",
        "    parts=[\n",
        "        FormattedStringText(value=\"Hello, \"),\n",
        "        FormattedStringExpression(\n",
        "            expression=Name(\"name\"),\n",
        "            conversion=None,\n",
        "            format_spec=None,\n",
        "            whitespace_before_expression=cst.SimpleWhitespace(''),\n",
        "            whitespace_after_expression=cst.SimpleWhitespace(''),\n",
        "        ),\n",
        "        FormattedStringText(value=\"!\"),\n",
        "    ],\n",
        "    start='f\"',\n",
        "    end='\"',\n",
        "    lpar=[],\n",
        "    rpar=[],\n",
        ")\n",
        "# print(fstring_expr)\n",
        "print(Module([fstring_expr]).code)\n"
      ],
      "metadata": {
        "colab": {
          "base_uri": "https://localhost:8080/"
        },
        "id": "Wq-cqA5-XYsH",
        "outputId": "7200d944-bcc7-4227-dbae-650644710e1e"
      },
      "execution_count": 49,
      "outputs": [
        {
          "output_type": "stream",
          "name": "stdout",
          "text": [
            "f\"Hello, {name}!\"\n"
          ]
        }
      ]
    },
    {
      "cell_type": "markdown",
      "source": [
        "### Collections"
      ],
      "metadata": {
        "id": "6CVhdTbEYSDu"
      }
    },
    {
      "cell_type": "markdown",
      "source": [
        "#### Tuples"
      ],
      "metadata": {
        "id": "8IaVJeukYTGd"
      }
    },
    {
      "cell_type": "code",
      "source": [
        "from libcst import Tuple, Element, Integer, Name, StarredElement\n",
        "\n",
        "tuple_expr = cst.Module([\n",
        "    cst.Expr(\n",
        "        Tuple([\n",
        "            Element(Integer(\"1\")),\n",
        "            Element(Integer(\"2\")),\n",
        "            StarredElement(Name(\"others\")),\n",
        "        ])\n",
        "    )\n",
        "])\n",
        "\n",
        "# print(tuple_expr)\n",
        "print(tuple_expr.code)\n"
      ],
      "metadata": {
        "colab": {
          "base_uri": "https://localhost:8080/"
        },
        "id": "2IbmcZEYYl0S",
        "outputId": "c2a9a117-26a6-44fd-ce60-57c163e39af2"
      },
      "execution_count": 51,
      "outputs": [
        {
          "output_type": "stream",
          "name": "stdout",
          "text": [
            "(1, 2, *others)\n"
          ]
        }
      ]
    },
    {
      "cell_type": "markdown",
      "source": [
        "#### Lists"
      ],
      "metadata": {
        "id": "6n3Ts_jdYy0J"
      }
    },
    {
      "cell_type": "code",
      "source": [
        "from libcst import List, Element, Integer, Name, StarredElement\n",
        "\n",
        "list_expr = cst.Module([\n",
        "    cst.Expr(\n",
        "        List([\n",
        "            Element(Integer(\"1\")),\n",
        "            Element(Integer(\"2\")),\n",
        "            StarredElement(Name(\"others\")),\n",
        "        ])\n",
        "    )\n",
        "])\n",
        "\n",
        "# print(list_expr)\n",
        "print(list_expr.code)\n"
      ],
      "metadata": {
        "colab": {
          "base_uri": "https://localhost:8080/"
        },
        "id": "Yftn5CkdYmS7",
        "outputId": "26335719-b221-4c30-ff69-5afc1e6a5dc5"
      },
      "execution_count": 52,
      "outputs": [
        {
          "output_type": "stream",
          "name": "stdout",
          "text": [
            "[1, 2, *others]\n"
          ]
        }
      ]
    },
    {
      "cell_type": "markdown",
      "source": [
        "#### Sets"
      ],
      "metadata": {
        "id": "GWYmAN23Y3FQ"
      }
    },
    {
      "cell_type": "code",
      "source": [
        "from libcst import Set, Element, Integer, Name, StarredElement\n",
        "\n",
        "set_expr = cst.Module([\n",
        "    cst.Expr(\n",
        "        Set([\n",
        "            Element(Integer(\"1\")),\n",
        "            Element(Integer(\"2\")),\n",
        "            StarredElement(Name(\"others\")),\n",
        "        ])\n",
        "    )\n",
        "])\n",
        "\n",
        "# print(set_expr)\n",
        "print(set_expr.code)\n"
      ],
      "metadata": {
        "colab": {
          "base_uri": "https://localhost:8080/"
        },
        "id": "5A3Iamm2Y4oJ",
        "outputId": "087ad992-9a3a-4bed-e0ae-c3ca7225580f"
      },
      "execution_count": 53,
      "outputs": [
        {
          "output_type": "stream",
          "name": "stdout",
          "text": [
            "{1, 2, *others}\n"
          ]
        }
      ]
    },
    {
      "cell_type": "markdown",
      "source": [
        "#### Dictionaries"
      ],
      "metadata": {
        "id": "ff1euRlmZAlb"
      }
    },
    {
      "cell_type": "code",
      "source": [
        "from libcst import Dict, DictElement, Name, StarredDictElement\n",
        "\n",
        "dict_expr = cst.Module([\n",
        "    cst.Expr(\n",
        "        Dict([\n",
        "            DictElement(Name(\"k1\"), Name(\"v1\")),\n",
        "            DictElement(Name(\"k2\"), Name(\"v2\")),\n",
        "            StarredDictElement(Name(\"expanded\")),\n",
        "        ])\n",
        "    )\n",
        "])\n",
        "\n",
        "# print(dict_expr)\n",
        "print(dict_expr.code)\n"
      ],
      "metadata": {
        "colab": {
          "base_uri": "https://localhost:8080/"
        },
        "id": "BYIUnPyRY55F",
        "outputId": "7c316d02-8b43-42e0-e2fe-7f2ce98ccece"
      },
      "execution_count": 54,
      "outputs": [
        {
          "output_type": "stream",
          "name": "stdout",
          "text": [
            "{k1: v1, k2: v2, **expanded}\n"
          ]
        }
      ]
    },
    {
      "cell_type": "markdown",
      "source": [
        "### Comprehensions"
      ],
      "metadata": {
        "id": "aQB4Mz4nZrY6"
      }
    },
    {
      "cell_type": "markdown",
      "source": [
        "#### List Comprehension"
      ],
      "metadata": {
        "id": "3n2zgSMLab0T"
      }
    },
    {
      "cell_type": "code",
      "source": [
        "import libcst as cst\n",
        "\n",
        "list_comp_node = cst.ListComp(\n",
        "    elt=cst.Name(\"x\"),\n",
        "    for_in=cst.CompFor(\n",
        "        target=cst.Name(\"x\"),\n",
        "        iter=cst.Call(\n",
        "            func=cst.Name(\"range\"),\n",
        "            args=[\n",
        "                cst.Arg(cst.Integer(\"10\"))\n",
        "            ]\n",
        "        )\n",
        "    )\n",
        ")\n",
        "\n",
        "code = cst.Module(body=[cst.SimpleStatementLine(body=[cst.Expr(value=list_comp_node)])])\n",
        "print(code.code)\n",
        "print(eval(code.code))\n"
      ],
      "metadata": {
        "colab": {
          "base_uri": "https://localhost:8080/"
        },
        "id": "n1CCbVQcZDbo",
        "outputId": "931fc9d1-5dca-4afd-b379-b9ed27c016d4"
      },
      "execution_count": 59,
      "outputs": [
        {
          "output_type": "stream",
          "name": "stdout",
          "text": [
            "[x for x in range(10)]\n",
            "\n",
            "[0, 1, 2, 3, 4, 5, 6, 7, 8, 9]\n"
          ]
        }
      ]
    },
    {
      "cell_type": "markdown",
      "source": [
        "#### Set Comprehension"
      ],
      "metadata": {
        "id": "sxaJaenFaglG"
      }
    },
    {
      "cell_type": "code",
      "source": [
        "import libcst as cst\n",
        "\n",
        "set_comp_node = cst.SetComp(\n",
        "    elt=cst.Name(\"x\"),\n",
        "    for_in=cst.CompFor(\n",
        "        target=cst.Name(\"x\"),\n",
        "        iter=cst.Call(\n",
        "            func=cst.Name(\"range\"),\n",
        "            args=[\n",
        "                cst.Arg(cst.Integer(\"10\"))\n",
        "            ]\n",
        "        )\n",
        "    )\n",
        ")\n",
        "\n",
        "code = cst.Module(body=[cst.SimpleStatementLine(body=[cst.Expr(value=set_comp_node)])])\n",
        "print(code.code)\n",
        "print(eval(code.code))"
      ],
      "metadata": {
        "colab": {
          "base_uri": "https://localhost:8080/"
        },
        "id": "NuztZX4bZ-WO",
        "outputId": "e04d0fd7-e186-4afc-fa97-b5394c4045a0"
      },
      "execution_count": 61,
      "outputs": [
        {
          "output_type": "stream",
          "name": "stdout",
          "text": [
            "{x for x in range(10)}\n",
            "\n",
            "{0, 1, 2, 3, 4, 5, 6, 7, 8, 9}\n"
          ]
        }
      ]
    },
    {
      "cell_type": "markdown",
      "source": [
        "#### DictComprehension"
      ],
      "metadata": {
        "id": "IcdGA8D8ay7V"
      }
    },
    {
      "cell_type": "code",
      "source": [
        "import libcst as cst\n",
        "\n",
        "dict_comp_node = cst.DictComp(\n",
        "    key=cst.Name(\"x\"),\n",
        "    value=cst.BinaryOperation(\n",
        "        left=cst.Name(\"x\"),\n",
        "        operator=cst.Multiply(),\n",
        "        right=cst.Integer(\"2\")\n",
        "    ),\n",
        "    for_in=cst.CompFor(\n",
        "        target=cst.Name(\"x\"),\n",
        "        iter=cst.Call(\n",
        "            func=cst.Name(\"range\"),\n",
        "            args=[\n",
        "                cst.Arg(cst.Integer(\"10\"))\n",
        "            ]\n",
        "        )\n",
        "    )\n",
        ")\n",
        "\n",
        "code = cst.Module(body=[cst.SimpleStatementLine(body=[cst.Expr(value=dict_comp_node)])])\n",
        "print(code.code)\n",
        "print(eval(code.code))"
      ],
      "metadata": {
        "colab": {
          "base_uri": "https://localhost:8080/"
        },
        "id": "VK1dI-43at3D",
        "outputId": "7e7fcd2e-56fd-4e1a-c2b0-ad0ebc66f105"
      },
      "execution_count": 62,
      "outputs": [
        {
          "output_type": "stream",
          "name": "stdout",
          "text": [
            "{x: x * 2 for x in range(10)}\n",
            "\n",
            "{0: 0, 1: 2, 2: 4, 3: 6, 4: 8, 5: 10, 6: 12, 7: 14, 8: 16, 9: 18}\n"
          ]
        }
      ]
    },
    {
      "cell_type": "markdown",
      "source": [
        "#### Generator Expression"
      ],
      "metadata": {
        "id": "KRme94gka7bP"
      }
    },
    {
      "cell_type": "code",
      "source": [
        "import libcst as cst\n",
        "\n",
        "gen_exp_node = cst.GeneratorExp(\n",
        "    elt=cst.Name(\"x\"),\n",
        "    for_in=cst.CompFor(\n",
        "        target=cst.Name(\"x\"),\n",
        "        iter=cst.Call(\n",
        "            func=cst.Name(\"range\"),\n",
        "            args=[\n",
        "                cst.Arg(cst.Integer(\"10\"))\n",
        "            ]\n",
        "        )\n",
        "    )\n",
        ")\n",
        "\n",
        "code = cst.Module(body=[cst.SimpleStatementLine(body=[cst.Expr(value=gen_exp_node)])])\n",
        "print(code.code)\n",
        "print(eval(code.code))\n"
      ],
      "metadata": {
        "colab": {
          "base_uri": "https://localhost:8080/"
        },
        "id": "nC7QS4kDa3dg",
        "outputId": "8f960fc4-6c66-4231-843a-d654b3d03333"
      },
      "execution_count": 63,
      "outputs": [
        {
          "output_type": "stream",
          "name": "stdout",
          "text": [
            "(x for x in range(10))\n",
            "\n",
            "<generator object <genexpr> at 0x7f2286803760>\n"
          ]
        }
      ]
    },
    {
      "cell_type": "markdown",
      "source": [
        "### Subscripts and Slices"
      ],
      "metadata": {
        "id": "7B-voGDMbg8l"
      }
    },
    {
      "cell_type": "markdown",
      "source": [
        "#### Subscript"
      ],
      "metadata": {
        "id": "jyuR9p2JbqbO"
      }
    },
    {
      "cell_type": "code",
      "source": [
        "import libcst as cst\n",
        "\n",
        "subscript_node = cst.Subscript(\n",
        "    value=cst.Name(\"my_list\"),\n",
        "    slice=[\n",
        "        cst.SubscriptElement(\n",
        "            slice=cst.Index(value=cst.Integer(\"2\"))\n",
        "        )\n",
        "    ]\n",
        ")\n",
        "\n",
        "code = cst.Module(body=[cst.SimpleStatementLine(body=[cst.Expr(value=subscript_node)])])\n",
        "print(code.code)\n"
      ],
      "metadata": {
        "colab": {
          "base_uri": "https://localhost:8080/"
        },
        "id": "RQwtkAoTa-2B",
        "outputId": "051fec58-fbae-419e-8307-08f5b115c688"
      },
      "execution_count": 66,
      "outputs": [
        {
          "output_type": "stream",
          "name": "stdout",
          "text": [
            "my_list[2]\n",
            "\n"
          ]
        }
      ]
    },
    {
      "cell_type": "markdown",
      "source": [
        "#### Slice"
      ],
      "metadata": {
        "id": "Nq4vWMUYb9B3"
      }
    },
    {
      "cell_type": "code",
      "source": [
        "import libcst as cst\n",
        "\n",
        "slice_node = cst.Subscript(\n",
        "    value=cst.Name(\"my_list\"),\n",
        "    slice=[\n",
        "        cst.SubscriptElement(\n",
        "            slice=cst.Slice(\n",
        "                lower=cst.Integer(\"1\"),\n",
        "                upper=cst.Integer(\"5\"),\n",
        "                step=None,\n",
        "                first_colon=cst.Colon(),\n",
        "                second_colon=cst.MaybeSentinel.DEFAULT\n",
        "            )\n",
        "        )\n",
        "    ]\n",
        ")\n",
        "\n",
        "code = cst.Module(body=[cst.SimpleStatementLine(body=[cst.Expr(value=slice_node)])])\n",
        "print(code.code)\n"
      ],
      "metadata": {
        "colab": {
          "base_uri": "https://localhost:8080/"
        },
        "id": "7X4GfT9Vb2F0",
        "outputId": "7c214280-3a4e-4c8e-994a-0fdc214980d1"
      },
      "execution_count": 67,
      "outputs": [
        {
          "output_type": "stream",
          "name": "stdout",
          "text": [
            "my_list[1:5]\n",
            "\n"
          ]
        }
      ]
    },
    {
      "cell_type": "markdown",
      "source": [
        "#### Extended Slice"
      ],
      "metadata": {
        "id": "wdfA6NatcCM-"
      }
    },
    {
      "cell_type": "code",
      "source": [
        "import libcst as cst\n",
        "\n",
        "ext_slice_node = cst.Subscript(\n",
        "    value=cst.Name(\"my_arr\"),\n",
        "    slice=[\n",
        "        cst.SubscriptElement(\n",
        "            slice=cst.Index(value=cst.Integer(\"0\"))\n",
        "        ),\n",
        "        cst.SubscriptElement(\n",
        "            slice=cst.Slice(\n",
        "                lower=cst.Integer(\"1\"),\n",
        "                upper=cst.Integer(\"5\"),\n",
        "                step=None,\n",
        "                first_colon=cst.Colon(),\n",
        "                second_colon=cst.MaybeSentinel.DEFAULT\n",
        "            ),\n",
        "            comma=cst.Comma()\n",
        "        )\n",
        "    ]\n",
        ")\n",
        "\n",
        "code = cst.Module(body=[cst.SimpleStatementLine(body=[cst.Expr(value=ext_slice_node)])])\n",
        "print(code.code)\n"
      ],
      "metadata": {
        "colab": {
          "base_uri": "https://localhost:8080/"
        },
        "id": "5HXlwdQLb6fK",
        "outputId": "0922555f-ba38-4c1c-a4c3-626dc9e4b2a9"
      },
      "execution_count": 68,
      "outputs": [
        {
          "output_type": "stream",
          "name": "stdout",
          "text": [
            "my_arr[0, 1:5,]\n",
            "\n"
          ]
        }
      ]
    },
    {
      "cell_type": "markdown",
      "source": [
        "### Parenthesis, Brackets, and Braces"
      ],
      "metadata": {
        "id": "g4uBwQmGcNsQ"
      }
    },
    {
      "cell_type": "markdown",
      "source": [
        "#### LeftParen and RightParen"
      ],
      "metadata": {
        "id": "0E3Y8_EMeB51"
      }
    },
    {
      "cell_type": "code",
      "source": [
        "import libcst as cst\n",
        "\n",
        "# Create a function call\n",
        "call = cst.Call(\n",
        "    func=cst.Name(\"my_func\"),\n",
        "    args=[\n",
        "        cst.Arg(cst.Integer(\"5\")),\n",
        "    ],\n",
        "    lpar=[cst.LeftParen(whitespace_after=cst.SimpleWhitespace(value=\" \"))],\n",
        "    rpar=[cst.RightParen(whitespace_before=cst.SimpleWhitespace(value=\" \"))]\n",
        ")\n",
        "\n",
        "# Create a module and print the generated code\n",
        "module = cst.Module(body=[cst.Expr(call)])\n",
        "print(module.code)\n"
      ],
      "metadata": {
        "colab": {
          "base_uri": "https://localhost:8080/"
        },
        "id": "KmS5aypkcEV0",
        "outputId": "415c7b42-8e4e-45bc-c95a-f6f986b84ae4"
      },
      "execution_count": 75,
      "outputs": [
        {
          "output_type": "stream",
          "name": "stdout",
          "text": [
            "( my_func(5) )\n"
          ]
        }
      ]
    },
    {
      "cell_type": "markdown",
      "source": [
        "#### LeftSquareBracket and RightSquareBracket "
      ],
      "metadata": {
        "id": "oDN1hffoeL7X"
      }
    },
    {
      "cell_type": "code",
      "source": [
        "import libcst as cst\n",
        "\n",
        "# Create a list\n",
        "my_list = cst.List(\n",
        "    elements=[\n",
        "        cst.Element(value=cst.Integer(\"1\")),\n",
        "        cst.Element(value=cst.Integer(\"2\")),\n",
        "    ],\n",
        "    lbracket=cst.LeftSquareBracket(whitespace_after=cst.SimpleWhitespace(value=\" \")),\n",
        "    rbracket=cst.RightSquareBracket(whitespace_before=cst.SimpleWhitespace(value=\" \"))\n",
        ")\n",
        "\n",
        "# Create a module and print the generated code\n",
        "module = cst.Module(body=[cst.Expr(my_list)])\n",
        "print(module.code)\n"
      ],
      "metadata": {
        "colab": {
          "base_uri": "https://localhost:8080/"
        },
        "id": "VA36CfgpdWjb",
        "outputId": "a439669c-c99a-4527-b72b-3c416b696fb3"
      },
      "execution_count": 76,
      "outputs": [
        {
          "output_type": "stream",
          "name": "stdout",
          "text": [
            "[ 1, 2 ]\n"
          ]
        }
      ]
    },
    {
      "cell_type": "markdown",
      "source": [
        "#### LeftCurlyBrace and RightCurlyBrace"
      ],
      "metadata": {
        "id": "jn3uZ_WSeXUI"
      }
    },
    {
      "cell_type": "code",
      "source": [
        "import libcst as cst\n",
        "\n",
        "# Create a dictionary\n",
        "my_dict = cst.Dict(\n",
        "    elements=[\n",
        "        cst.DictElement(\n",
        "            key=cst.SimpleString('\"key\"'),\n",
        "            value=cst.Integer(\"1\")\n",
        "        ),\n",
        "    ],\n",
        "    lbrace=cst.LeftCurlyBrace(whitespace_after=cst.SimpleWhitespace(value=\" \")),\n",
        "    rbrace=cst.RightCurlyBrace(whitespace_before=cst.SimpleWhitespace(value=\" \"))\n",
        ")\n",
        "\n",
        "# Create a module and print the generated code\n",
        "module = cst.Module(body=[cst.Expr(my_dict)])\n",
        "print(module.code)\n"
      ],
      "metadata": {
        "colab": {
          "base_uri": "https://localhost:8080/"
        },
        "id": "pXVPux96eSS6",
        "outputId": "2a9ed335-9f5f-416d-ebc6-1c410d20fe09"
      },
      "execution_count": 77,
      "outputs": [
        {
          "output_type": "stream",
          "name": "stdout",
          "text": [
            "{ \"key\": 1 }\n"
          ]
        }
      ]
    },
    {
      "cell_type": "markdown",
      "source": [
        "## Statements\n",
        "Statements represent a “line of code” or a control structure with other lines of code, such as an If block.\n",
        "\n",
        "All statements subclass from BaseSmallStatement or BaseCompoundStatement.\n",
        "\n",
        "Statements can be parsed with parse_statement() or as part of a module using parse_module()."
      ],
      "metadata": {
        "id": "jERYfILMetVo"
      }
    },
    {
      "cell_type": "markdown",
      "source": [
        "### Simple Statements"
      ],
      "metadata": {
        "id": "rOyl5Kot11J1"
      }
    },
    {
      "cell_type": "markdown",
      "source": [
        "#### AnnAssign\n"
      ],
      "metadata": {
        "id": "MdeUJxJQ2zXQ"
      }
    },
    {
      "cell_type": "code",
      "source": [
        "import libcst as cst\n",
        "\n",
        "ann_assign = cst.AnnAssign(\n",
        "    target=cst.Name(\"x\"),\n",
        "    annotation=cst.Annotation(cst.Name(\"int\")),\n",
        "    value=cst.Integer(\"5\"),\n",
        ")\n",
        "print(cst.Module([cst.SimpleStatementLine([ann_assign])]).code)\n",
        "\n"
      ],
      "metadata": {
        "colab": {
          "base_uri": "https://localhost:8080/"
        },
        "id": "2o8xNN9dhpTR",
        "outputId": "217c8cba-7289-48e6-f685-090c65f4c389"
      },
      "execution_count": 84,
      "outputs": [
        {
          "output_type": "stream",
          "name": "stdout",
          "text": [
            "x: int = 5\n",
            "\n"
          ]
        }
      ]
    },
    {
      "cell_type": "markdown",
      "source": [
        "#### Assert\n"
      ],
      "metadata": {
        "id": "Qr2PWLqk20yf"
      }
    },
    {
      "cell_type": "code",
      "source": [
        "assert_statement = cst.Assert(\n",
        "    test=cst.BinaryOperation(\n",
        "        left=cst.Name(\"x\"),\n",
        "        operator=cst.GreaterThan(),\n",
        "        right=cst.Integer(\"5\"),\n",
        "    )\n",
        ")\n",
        "print(cst.Module([assert_statement]).code)\n"
      ],
      "metadata": {
        "colab": {
          "base_uri": "https://localhost:8080/"
        },
        "id": "2zimWkod1-Md",
        "outputId": "a48751d2-b753-4217-c7c7-33d81d0536e7"
      },
      "execution_count": 85,
      "outputs": [
        {
          "output_type": "stream",
          "name": "stdout",
          "text": [
            "assert x > 5\n"
          ]
        }
      ]
    },
    {
      "cell_type": "markdown",
      "source": [
        "#### Assign\n"
      ],
      "metadata": {
        "id": "uiAeFCCa22L4"
      }
    },
    {
      "cell_type": "code",
      "source": [
        "\n",
        "assign_statement = cst.Assign(\n",
        "    targets=[cst.AssignTarget(target=cst.Name(\"x\"))],\n",
        "    value=cst.Name(\"y\"),\n",
        ")\n",
        "print(cst.Module([assign_statement]).code)\n"
      ],
      "metadata": {
        "colab": {
          "base_uri": "https://localhost:8080/"
        },
        "id": "9EVWxUCN1-aI",
        "outputId": "d533929e-363a-4495-810c-aff0b7dabc1d"
      },
      "execution_count": 86,
      "outputs": [
        {
          "output_type": "stream",
          "name": "stdout",
          "text": [
            "x = y\n"
          ]
        }
      ]
    },
    {
      "cell_type": "markdown",
      "source": [
        "#### AugAssign\n"
      ],
      "metadata": {
        "id": "PrOnHdBw23sm"
      }
    },
    {
      "cell_type": "code",
      "source": [
        "\n",
        "aug_assign = cst.AugAssign(\n",
        "    target=cst.Name(\"x\"),\n",
        "    operator=cst.AddAssign(),\n",
        "    value=cst.Integer(\"5\"),\n",
        ")\n",
        "print(cst.Module([aug_assign]).code)\n"
      ],
      "metadata": {
        "colab": {
          "base_uri": "https://localhost:8080/"
        },
        "id": "KLS772aU2NfY",
        "outputId": "b62377d6-78dc-4e50-f813-805095eb8d2f"
      },
      "execution_count": 87,
      "outputs": [
        {
          "output_type": "stream",
          "name": "stdout",
          "text": [
            "x += 5\n"
          ]
        }
      ]
    },
    {
      "cell_type": "markdown",
      "source": [
        "#### Break\n"
      ],
      "metadata": {
        "id": "dUSIZbHw255f"
      }
    },
    {
      "cell_type": "code",
      "source": [
        "\n",
        "break_statement = cst.Break()\n",
        "print(cst.Module([break_statement]).code)\n"
      ],
      "metadata": {
        "colab": {
          "base_uri": "https://localhost:8080/"
        },
        "id": "burfA0z-2P0N",
        "outputId": "eb738e88-44ca-48f8-b65d-8155667251eb"
      },
      "execution_count": 88,
      "outputs": [
        {
          "output_type": "stream",
          "name": "stdout",
          "text": [
            "break\n"
          ]
        }
      ]
    },
    {
      "cell_type": "markdown",
      "source": [
        "#### Continue\n"
      ],
      "metadata": {
        "id": "Pqd2t-Eb27UZ"
      }
    },
    {
      "cell_type": "code",
      "source": [
        "\n",
        "continue_statement = cst.Continue()\n",
        "print(cst.Module([continue_statement]).code)\n"
      ],
      "metadata": {
        "colab": {
          "base_uri": "https://localhost:8080/"
        },
        "id": "ZVp6F3Rg2Rtt",
        "outputId": "f8332a93-74a0-49d6-c707-c6c2155e5a95"
      },
      "execution_count": 89,
      "outputs": [
        {
          "output_type": "stream",
          "name": "stdout",
          "text": [
            "continue\n"
          ]
        }
      ]
    },
    {
      "cell_type": "markdown",
      "source": [
        "#### Del\n"
      ],
      "metadata": {
        "id": "HvrgcZFg28rv"
      }
    },
    {
      "cell_type": "code",
      "source": [
        "\n",
        "del_statement = cst.Del(cst.Name(\"x\"))\n",
        "print(cst.Module([del_statement]).code)\n"
      ],
      "metadata": {
        "colab": {
          "base_uri": "https://localhost:8080/"
        },
        "id": "aFdb8v2N2Tks",
        "outputId": "efe57df4-5759-4b80-df36-51aeea0a0039"
      },
      "execution_count": 90,
      "outputs": [
        {
          "output_type": "stream",
          "name": "stdout",
          "text": [
            "del x\n"
          ]
        }
      ]
    },
    {
      "cell_type": "markdown",
      "source": [
        "#### Expr (function call)\n"
      ],
      "metadata": {
        "id": "vltfo0Nh2-RW"
      }
    },
    {
      "cell_type": "code",
      "source": [
        "\n",
        "expr_statement = cst.Expr(cst.Call(func=cst.Name(\"print\"), args=[cst.Arg(cst.Name(\"i\"))]))\n",
        "print(cst.Module([expr_statement]).code)\n"
      ],
      "metadata": {
        "colab": {
          "base_uri": "https://localhost:8080/"
        },
        "id": "79gvr0it2VVb",
        "outputId": "24321cba-f233-4f00-cab8-dbf3cd746ee6"
      },
      "execution_count": 105,
      "outputs": [
        {
          "output_type": "stream",
          "name": "stdout",
          "text": [
            "print(i)\n"
          ]
        }
      ]
    },
    {
      "cell_type": "markdown",
      "source": [
        "#### Global\n"
      ],
      "metadata": {
        "id": "j260yR6p2_dx"
      }
    },
    {
      "cell_type": "code",
      "source": [
        "\n",
        "global_statement = cst.Global(names=[cst.NameItem(name=cst.Name(\"x\"))])\n",
        "print(cst.Module([global_statement]).code)\n"
      ],
      "metadata": {
        "colab": {
          "base_uri": "https://localhost:8080/"
        },
        "id": "enZN09842XWm",
        "outputId": "bdc5024a-1fc0-4696-936a-85470d53505a"
      },
      "execution_count": 92,
      "outputs": [
        {
          "output_type": "stream",
          "name": "stdout",
          "text": [
            "global x\n"
          ]
        }
      ]
    },
    {
      "cell_type": "markdown",
      "source": [
        "#### Import\n"
      ],
      "metadata": {
        "id": "iT4JfHGA3Cap"
      }
    },
    {
      "cell_type": "code",
      "source": [
        "\n",
        "import_statement = cst.Import(names=[cst.ImportAlias(name=cst.Name(\"os\"))])\n",
        "print(cst.Module([import_statement]).code)\n"
      ],
      "metadata": {
        "colab": {
          "base_uri": "https://localhost:8080/"
        },
        "id": "-wamHFfP2Y92",
        "outputId": "32c5963c-ecc5-498a-f89d-09e780b31c9d"
      },
      "execution_count": 93,
      "outputs": [
        {
          "output_type": "stream",
          "name": "stdout",
          "text": [
            "import os\n"
          ]
        }
      ]
    },
    {
      "cell_type": "markdown",
      "source": [
        "#### ImportFrom\n"
      ],
      "metadata": {
        "id": "H8PEOR103DtK"
      }
    },
    {
      "cell_type": "code",
      "source": [
        "\n",
        "import_from_statement = cst.ImportFrom(\n",
        "    module=cst.Name(\"os\"),\n",
        "    names=[cst.ImportAlias(name=cst.Name(\"path\"))],\n",
        ")\n",
        "print(cst.Module([import_from_statement]).code)\n"
      ],
      "metadata": {
        "colab": {
          "base_uri": "https://localhost:8080/"
        },
        "id": "b26oo1uv2azS",
        "outputId": "5327ed7f-365d-44bf-ad09-b4bbb933653f"
      },
      "execution_count": 94,
      "outputs": [
        {
          "output_type": "stream",
          "name": "stdout",
          "text": [
            "from os import path\n"
          ]
        }
      ]
    },
    {
      "cell_type": "markdown",
      "source": [
        "#### Nonlocal\n"
      ],
      "metadata": {
        "id": "naRgNaUr3GMs"
      }
    },
    {
      "cell_type": "code",
      "source": [
        "\n",
        "nonlocal_statement = cst.Nonlocal(names=[cst.NameItem(name=cst.Name(\"x\"))])\n",
        "print(cst.Module([nonlocal_statement]).code)\n"
      ],
      "metadata": {
        "colab": {
          "base_uri": "https://localhost:8080/"
        },
        "id": "st5Ba8ZG2c1L",
        "outputId": "b3663073-fb68-4200-acb3-86174fc26a40"
      },
      "execution_count": 95,
      "outputs": [
        {
          "output_type": "stream",
          "name": "stdout",
          "text": [
            "nonlocal x\n"
          ]
        }
      ]
    },
    {
      "cell_type": "markdown",
      "source": [
        "#### Pass\n"
      ],
      "metadata": {
        "id": "p2oZlNnh3H1Q"
      }
    },
    {
      "cell_type": "code",
      "source": [
        "\n",
        "pass_statement = cst.Pass()\n",
        "print(cst.Module([pass_statement]).code)\n"
      ],
      "metadata": {
        "colab": {
          "base_uri": "https://localhost:8080/"
        },
        "id": "Y5xJw9IV2e0f",
        "outputId": "38e14d0e-950c-4367-a8ee-1c87eeac77f2"
      },
      "execution_count": 96,
      "outputs": [
        {
          "output_type": "stream",
          "name": "stdout",
          "text": [
            "pass\n"
          ]
        }
      ]
    },
    {
      "cell_type": "markdown",
      "source": [
        "#### Raise\n"
      ],
      "metadata": {
        "id": "Ubr3wvU-3JbT"
      }
    },
    {
      "cell_type": "code",
      "source": [
        "\n",
        "raise_statement = cst.Raise(exc=cst.Call(func=cst.Name(\"Exception\"), args=[]))\n",
        "print(cst.Module([raise_statement]).code)\n"
      ],
      "metadata": {
        "colab": {
          "base_uri": "https://localhost:8080/"
        },
        "id": "-1G8fxmO2gyh",
        "outputId": "5aaf975c-0ad3-46de-f1cf-46e8130bf128"
      },
      "execution_count": 97,
      "outputs": [
        {
          "output_type": "stream",
          "name": "stdout",
          "text": [
            "raise Exception()\n"
          ]
        }
      ]
    },
    {
      "cell_type": "markdown",
      "source": [
        "#### Return\n"
      ],
      "metadata": {
        "id": "QSoZZahx2lbn"
      }
    },
    {
      "cell_type": "code",
      "source": [
        "\n",
        "return_statement = cst.Return(value=cst.Name(\"x\"))\n",
        "print(cst.Module([return_statement]).code)"
      ],
      "metadata": {
        "colab": {
          "base_uri": "https://localhost:8080/"
        },
        "id": "p0nH3vEi2ihG",
        "outputId": "0c1c90e7-03ff-477b-a04c-09d54725a3dc"
      },
      "execution_count": 98,
      "outputs": [
        {
          "output_type": "stream",
          "name": "stdout",
          "text": [
            "return x\n"
          ]
        }
      ]
    },
    {
      "cell_type": "markdown",
      "source": [
        "### Compound Statements\n",
        "Statements that have one or more statement blocks as a child attribute."
      ],
      "metadata": {
        "id": "VYa3ZbJ-3mHo"
      }
    },
    {
      "cell_type": "markdown",
      "source": [
        "#### ClassDef"
      ],
      "metadata": {
        "id": "xCZFSoGm3xpx"
      }
    },
    {
      "cell_type": "code",
      "source": [
        "class_def = cst.ClassDef(\n",
        "    name=cst.Name(\"TestClass\"),\n",
        "    bases=[],\n",
        "    keywords=[],\n",
        "    body=cst.IndentedBlock(\n",
        "        body=[cst.SimpleStatementLine(body=[cst.Pass()])]\n",
        "    ),\n",
        ")\n",
        "\n",
        "print(cst.Module([class_def]).code)\n"
      ],
      "metadata": {
        "colab": {
          "base_uri": "https://localhost:8080/"
        },
        "id": "jNxzYl-Z2i7W",
        "outputId": "d256ba38-8110-4ba8-8fe1-e718b90d0475"
      },
      "execution_count": 99,
      "outputs": [
        {
          "output_type": "stream",
          "name": "stdout",
          "text": [
            "class TestClass:\n",
            "    pass\n",
            "\n"
          ]
        }
      ]
    },
    {
      "cell_type": "markdown",
      "source": [
        "#### For"
      ],
      "metadata": {
        "id": "ElMA7CtL31pT"
      }
    },
    {
      "cell_type": "code",
      "source": [
        "for_loop = cst.For(\n",
        "    target=cst.Name(\"i\"),\n",
        "    iter=cst.Call(\n",
        "        func=cst.Name(\"range\"),\n",
        "        args=[cst.Arg(cst.Integer(\"10\"))]\n",
        "    ),\n",
        "    body=cst.IndentedBlock(\n",
        "        body=[cst.SimpleStatementLine(body=[expr_statement])]\n",
        "    ),\n",
        ")\n",
        "print(cst.Module([for_loop]).code)\n",
        "print(exec(cst.Module([for_loop]).code))\n"
      ],
      "metadata": {
        "colab": {
          "base_uri": "https://localhost:8080/"
        },
        "id": "9Dix9JH7322L",
        "outputId": "9dfd00b6-1dfc-4cd6-8b34-b87f300773cb"
      },
      "execution_count": 111,
      "outputs": [
        {
          "output_type": "stream",
          "name": "stdout",
          "text": [
            "for i in range(10):\n",
            "    print(i)\n",
            "\n",
            "0\n",
            "1\n",
            "2\n",
            "3\n",
            "4\n",
            "5\n",
            "6\n",
            "7\n",
            "8\n",
            "9\n",
            "None\n"
          ]
        }
      ]
    },
    {
      "cell_type": "markdown",
      "source": [
        "#### FunctionDef"
      ],
      "metadata": {
        "id": "3yrBO5995O9I"
      }
    },
    {
      "cell_type": "code",
      "source": [
        "func_def = cst.FunctionDef(\n",
        "    name=cst.Name(\"func\"),\n",
        "    params=cst.Parameters(params=[]),\n",
        "    body=cst.IndentedBlock(\n",
        "        body=[cst.SimpleStatementLine(body=[cst.Pass()])]\n",
        "    ),\n",
        ")\n",
        "\n",
        "print(cst.Module([func_def]).code)\n"
      ],
      "metadata": {
        "colab": {
          "base_uri": "https://localhost:8080/"
        },
        "id": "fRfJ5sQn33Vx",
        "outputId": "582d28cb-9ea9-42f7-fa46-c01ed3d0cadd"
      },
      "execution_count": 112,
      "outputs": [
        {
          "output_type": "stream",
          "name": "stdout",
          "text": [
            "def func():\n",
            "    pass\n",
            "\n"
          ]
        }
      ]
    },
    {
      "cell_type": "markdown",
      "source": [
        "#### w/ decorators"
      ],
      "metadata": {
        "id": "yDUcAPNC5zJl"
      }
    },
    {
      "cell_type": "code",
      "source": [
        "func_def_with_decorator = cst.FunctionDef(\n",
        "    name=cst.Name(\"func\"),\n",
        "    params=cst.Parameters(params=[]),\n",
        "    body=cst.IndentedBlock(\n",
        "        body=[cst.SimpleStatementLine(body=[cst.Pass()])]\n",
        "    ),\n",
        "    decorators=[\n",
        "        cst.Decorator(\n",
        "            decorator=cst.Name(\"staticmethod\")\n",
        "        )\n",
        "    ],\n",
        ")\n",
        "\n",
        "print(cst.Module([func_def_with_decorator]).code)\n"
      ],
      "metadata": {
        "colab": {
          "base_uri": "https://localhost:8080/"
        },
        "id": "s9ykqaKz5ydn",
        "outputId": "95ff54f9-ef6b-417d-994b-adecfbff10c1"
      },
      "execution_count": 114,
      "outputs": [
        {
          "output_type": "stream",
          "name": "stdout",
          "text": [
            "@staticmethod\n",
            "def func():\n",
            "    pass\n",
            "\n"
          ]
        }
      ]
    },
    {
      "cell_type": "markdown",
      "source": [
        "#### complex example"
      ],
      "metadata": {
        "id": "Gx9t2pqn7sZ6"
      }
    },
    {
      "cell_type": "code",
      "source": [
        "import libcst as cst\n",
        "import libcst.matchers as m\n",
        "\n",
        "function_def = cst.FunctionDef(\n",
        "    name=cst.Name(\"complex_function\"),\n",
        "    params=cst.Parameters(\n",
        "        params=[\n",
        "            cst.Param(\n",
        "                name=cst.Name(\"arg1\"),\n",
        "                annotation=cst.Annotation(annotation=cst.Name(\"int\")),\n",
        "                equal=cst.AssignEqual(),\n",
        "                default=cst.Integer(\"1\"),\n",
        "            ),\n",
        "            cst.Param(\n",
        "                name=cst.Name(\"arg2\"),\n",
        "                annotation=cst.Annotation(annotation=cst.Name(\"str\")),\n",
        "                equal=cst.AssignEqual(),\n",
        "                default=cst.SimpleString(\"'default'\"),\n",
        "            ),\n",
        "        ]\n",
        "    ),\n",
        "    body=cst.IndentedBlock(\n",
        "        body=[\n",
        "            cst.SimpleStatementLine(body=[cst.Pass()])\n",
        "        ]\n",
        "    ),\n",
        "    decorators=[\n",
        "        cst.Decorator(\n",
        "            decorator=cst.Name(\"some_decorator\"),\n",
        "\n",
        "        )\n",
        "    ],\n",
        "    returns=cst.Annotation(annotation=cst.Name(\"None\")),\n",
        "    asynchronous=cst.Asynchronous(),\n",
        ")\n",
        "\n",
        "module = cst.Module([function_def])\n",
        "\n",
        "print(module.code)\n"
      ],
      "metadata": {
        "colab": {
          "base_uri": "https://localhost:8080/"
        },
        "id": "tX7PaOIK6UBQ",
        "outputId": "12c45023-86cd-4c04-8b51-0f71f1e7cbf7"
      },
      "execution_count": 125,
      "outputs": [
        {
          "output_type": "stream",
          "name": "stdout",
          "text": [
            "@some_decorator\n",
            "async def complex_function(arg1: int = 1, arg2: str = 'default') -> None:\n",
            "    pass\n",
            "\n"
          ]
        }
      ]
    },
    {
      "cell_type": "markdown",
      "source": [
        "#### if"
      ],
      "metadata": {
        "id": "9Rw-ApJL5U4H"
      }
    },
    {
      "cell_type": "code",
      "source": [
        "if_stmt = cst.If(\n",
        "    test=cst.Name(\"True\"),\n",
        "    body=cst.IndentedBlock(\n",
        "        body=[cst.SimpleStatementLine(body=[cst.Pass()])]\n",
        "    ),\n",
        ")\n",
        "\n",
        "print(cst.Module([if_stmt]).code)\n"
      ],
      "metadata": {
        "colab": {
          "base_uri": "https://localhost:8080/"
        },
        "id": "ySd64x515Uh7",
        "outputId": "146340e7-b532-45df-b7b2-daabbea4100d"
      },
      "execution_count": 113,
      "outputs": [
        {
          "output_type": "stream",
          "name": "stdout",
          "text": [
            "if True:\n",
            "    pass\n",
            "\n"
          ]
        }
      ]
    },
    {
      "cell_type": "markdown",
      "source": [
        "#### try"
      ],
      "metadata": {
        "id": "iVv_Aaiv70ig"
      }
    },
    {
      "cell_type": "code",
      "source": [
        "try_stmt = cst.Try(\n",
        "    body=cst.IndentedBlock(\n",
        "        body=[cst.SimpleStatementLine(body=[cst.Pass()])]\n",
        "    ),\n",
        "    handlers=[\n",
        "        cst.ExceptHandler(\n",
        "            body=cst.IndentedBlock(\n",
        "                body=[cst.SimpleStatementLine(body=[cst.Pass()])]\n",
        "            ),\n",
        "        )\n",
        "    ],\n",
        ")\n",
        "\n",
        "print(cst.Module([try_stmt]).code)\n"
      ],
      "metadata": {
        "colab": {
          "base_uri": "https://localhost:8080/"
        },
        "id": "TatDfboW5Wue",
        "outputId": "f5156db2-a728-4b06-ace5-922da745e801"
      },
      "execution_count": 126,
      "outputs": [
        {
          "output_type": "stream",
          "name": "stdout",
          "text": [
            "try:\n",
            "    pass\n",
            "except :\n",
            "    pass\n",
            "\n"
          ]
        }
      ]
    },
    {
      "cell_type": "markdown",
      "source": [
        "#### while"
      ],
      "metadata": {
        "id": "TGJigMRT77YB"
      }
    },
    {
      "cell_type": "code",
      "source": [
        "while_loop = cst.While(\n",
        "    test=cst.Name(\"True\"),\n",
        "    body=cst.IndentedBlock(\n",
        "        body=[cst.SimpleStatementLine(body=[cst.Pass()])]\n",
        "    ),\n",
        ")\n",
        "\n",
        "print(cst.Module([while_loop]).code)\n"
      ],
      "metadata": {
        "colab": {
          "base_uri": "https://localhost:8080/"
        },
        "id": "XbPeqDcO72DF",
        "outputId": "eb6f6954-242f-4419-dda9-ee4452078743"
      },
      "execution_count": 127,
      "outputs": [
        {
          "output_type": "stream",
          "name": "stdout",
          "text": [
            "while True:\n",
            "    pass\n",
            "\n"
          ]
        }
      ]
    },
    {
      "cell_type": "markdown",
      "source": [
        "#### with"
      ],
      "metadata": {
        "id": "sSudjq849LBE"
      }
    },
    {
      "cell_type": "code",
      "source": [
        "with_stmt = cst.With(\n",
        "    items=[\n",
        "        cst.WithItem(\n",
        "            item=cst.Call(func=cst.Name(\"open\"), args=[cst.Arg(cst.SimpleString('\"file.txt\"'))]),\n",
        "            asname=cst.AsName(name=cst.Name(\"f\")),\n",
        "        )\n",
        "    ],\n",
        "    body=cst.IndentedBlock(\n",
        "        body=[\n",
        "            cst.SimpleStatementLine(body=[cst.Pass()])\n",
        "        ]\n",
        "    )\n",
        ")\n",
        "\n",
        "\n",
        "print(cst.Module([with_stmt]).code)\n"
      ],
      "metadata": {
        "colab": {
          "base_uri": "https://localhost:8080/"
        },
        "id": "zRwiUyDl76qt",
        "outputId": "577b9204-bfe5-4ed7-9a44-d20ba860be4c"
      },
      "execution_count": 130,
      "outputs": [
        {
          "output_type": "stream",
          "name": "stdout",
          "text": [
            "with open(\"file.txt\") as f:\n",
            "    pass\n",
            "\n"
          ]
        }
      ]
    },
    {
      "cell_type": "markdown",
      "source": [
        "### Helper Nodes\n",
        "Nodes that are used by various statements to represent some syntax, but are not statements on their own and cannot be used outside of the statements they belong with."
      ],
      "metadata": {
        "id": "mwb_U9vL-PCk"
      }
    },
    {
      "cell_type": "markdown",
      "source": [
        "#### Annotations"
      ],
      "metadata": {
        "id": "NPk8rNH2_utw"
      }
    },
    {
      "cell_type": "code",
      "source": [
        "import libcst as cst\n",
        "\n",
        "annotation = cst.Annotation(\n",
        "    annotation=cst.Subscript(\n",
        "        value=cst.Name(\"List\"),\n",
        "        slice=[\n",
        "            cst.SubscriptElement(\n",
        "                slice=cst.Index(value=cst.Name(\"str\"))\n",
        "            )\n",
        "        ]\n",
        "    ),\n",
        ")\n",
        "\n",
        "func_def = cst.FunctionDef(\n",
        "    name=cst.Name(\"my_function\"),\n",
        "    params=cst.Parameters(\n",
        "        params=[\n",
        "            cst.Param(\n",
        "                name=cst.Name(\"param1\"),\n",
        "                annotation=annotation,\n",
        "            ),\n",
        "        ]\n",
        "    ),\n",
        "    body=cst.IndentedBlock(\n",
        "        body=[cst.SimpleStatementLine(body=[cst.Pass()])]\n",
        "    ),\n",
        ")\n",
        "\n",
        "print(cst.Module([func_def]).code)\n"
      ],
      "metadata": {
        "colab": {
          "base_uri": "https://localhost:8080/"
        },
        "id": "GtewS8jQ8BG7",
        "outputId": "f6f1fea2-b82f-4e0a-96ac-ca5bb40d2401"
      },
      "execution_count": 133,
      "outputs": [
        {
          "output_type": "stream",
          "name": "stdout",
          "text": [
            "def my_function(param1: List[str]):\n",
            "    pass\n",
            "\n"
          ]
        }
      ]
    },
    {
      "cell_type": "markdown",
      "source": [
        "#### AsName"
      ],
      "metadata": {
        "id": "eP9TSpwS_xiq"
      }
    },
    {
      "cell_type": "code",
      "source": [
        "import libcst as cst\n",
        "\n",
        "asname = cst.AsName(\n",
        "    name=cst.Name(\"my_alias\"),\n",
        "    whitespace_before_as=cst.SimpleWhitespace(value=\" \"),\n",
        "    whitespace_after_as=cst.SimpleWhitespace(value=\" \"),\n",
        ")\n",
        "\n",
        "with_stmt = cst.With(\n",
        "    items=[\n",
        "        cst.WithItem(\n",
        "            item=cst.Call(\n",
        "                func=cst.Name(\"open\"),\n",
        "                args=[cst.Arg(value=cst.SimpleString(\"'file.txt'\"))],\n",
        "            ),\n",
        "            asname=asname\n",
        "        ),\n",
        "    ],\n",
        "    body=cst.IndentedBlock(\n",
        "        body=[cst.SimpleStatementLine(body=[cst.Pass()])]\n",
        "    )\n",
        ")\n",
        "\n",
        "print(cst.Module([with_stmt]).code)\n"
      ],
      "metadata": {
        "colab": {
          "base_uri": "https://localhost:8080/"
        },
        "id": "7yiLNpPP-Q9c",
        "outputId": "e0fbb9ed-16ba-49b8-f588-974f9b0d1403"
      },
      "execution_count": 132,
      "outputs": [
        {
          "output_type": "stream",
          "name": "stdout",
          "text": [
            "with open('file.txt') as my_alias:\n",
            "    pass\n",
            "\n"
          ]
        }
      ]
    },
    {
      "cell_type": "markdown",
      "source": [
        "#### AssignTarget"
      ],
      "metadata": {
        "id": "q0TznsFdBYM-"
      }
    },
    {
      "cell_type": "code",
      "source": [
        "import libcst as cst\n",
        "\n",
        "assign_target = cst.AssignTarget(\n",
        "    target=cst.Name(\"x\"),\n",
        "    whitespace_before_equal=cst.SimpleWhitespace(\" \"),\n",
        "    whitespace_after_equal=cst.SimpleWhitespace(\" \")\n",
        ")\n",
        "\n",
        "assign = cst.Assign(targets=[assign_target], value=cst.Name(\"y\"))\n",
        "print(cst.Module([assign]).code)\n"
      ],
      "metadata": {
        "colab": {
          "base_uri": "https://localhost:8080/"
        },
        "id": "Z039eZAC-W_-",
        "outputId": "6fbccec9-4251-45c6-ec3a-7d68af15a48e"
      },
      "execution_count": 134,
      "outputs": [
        {
          "output_type": "stream",
          "name": "stdout",
          "text": [
            "x = y\n"
          ]
        }
      ]
    },
    {
      "cell_type": "markdown",
      "source": [
        "#### Decorators\n"
      ],
      "metadata": {
        "id": "zWqKTYA6BcOL"
      }
    },
    {
      "cell_type": "code",
      "source": [
        "decorator = cst.Decorator(\n",
        "    decorator=cst.Name(\"staticmethod\"),\n",
        "    whitespace_after_at=cst.SimpleWhitespace(\"\"),\n",
        "    trailing_whitespace=cst.TrailingWhitespace(\n",
        "        whitespace=cst.SimpleWhitespace(\" \"),\n",
        "        comment=None,\n",
        "        newline=cst.Newline()\n",
        "    )\n",
        ")\n",
        "\n",
        "func_def = cst.FunctionDef(\n",
        "    name=cst.Name(\"my_function\"),\n",
        "    decorators=[decorator],\n",
        "    params=cst.Parameters(),\n",
        "    body=cst.IndentedBlock(\n",
        "        body=[cst.SimpleStatementLine(body=[cst.Pass()])]\n",
        "    ),\n",
        ")\n",
        "\n",
        "print(cst.Module([func_def]).code)\n"
      ],
      "metadata": {
        "colab": {
          "base_uri": "https://localhost:8080/"
        },
        "id": "EKj7em6sBVpn",
        "outputId": "b561253b-f982-4339-b599-8575a1f315fe"
      },
      "execution_count": 135,
      "outputs": [
        {
          "output_type": "stream",
          "name": "stdout",
          "text": [
            "@staticmethod \n",
            "def my_function():\n",
            "    pass\n",
            "\n"
          ]
        }
      ]
    },
    {
      "cell_type": "markdown",
      "source": [
        "#### Else"
      ],
      "metadata": {
        "id": "6yJ798dbBi_P"
      }
    },
    {
      "cell_type": "code",
      "source": [
        "else_clause = cst.Else(\n",
        "    body=cst.IndentedBlock(\n",
        "        body=[cst.SimpleStatementLine(body=[cst.Pass()])]\n",
        "    ),\n",
        "    whitespace_before_colon=cst.SimpleWhitespace(\" \"),\n",
        ")\n",
        "\n",
        "if_stmt = cst.If(\n",
        "    test=cst.Name(\"condition\"),\n",
        "    body=cst.IndentedBlock(\n",
        "        body=[cst.SimpleStatementLine(body=[cst.Pass()])]\n",
        "    ),\n",
        "    orelse=else_clause\n",
        ")\n",
        "\n",
        "print(cst.Module([if_stmt]).code)\n"
      ],
      "metadata": {
        "colab": {
          "base_uri": "https://localhost:8080/"
        },
        "id": "M_1Zt3GnBfuL",
        "outputId": "a45b59cd-2588-4391-bc01-220ee170a750"
      },
      "execution_count": 140,
      "outputs": [
        {
          "output_type": "stream",
          "name": "stdout",
          "text": [
            "if condition:\n",
            "    pass\n",
            "else :\n",
            "    pass\n",
            "\n"
          ]
        }
      ]
    },
    {
      "cell_type": "markdown",
      "source": [
        "#### ExceptHandler"
      ],
      "metadata": {
        "id": "lUVFUqbbBxP3"
      }
    },
    {
      "cell_type": "code",
      "source": [
        "except_clause = cst.ExceptHandler(\n",
        "    body=cst.IndentedBlock(\n",
        "        body=[cst.SimpleStatementLine(body=[cst.Pass()])]\n",
        "    ),\n",
        "    type=cst.Name(\"Exception\"),\n",
        "    whitespace_after_except=cst.SimpleWhitespace(\" \"),\n",
        "    whitespace_before_colon=cst.SimpleWhitespace(\" \"),\n",
        ")\n",
        "\n",
        "try_stmt = cst.Try(\n",
        "    body=cst.IndentedBlock(\n",
        "        body=[cst.SimpleStatementLine(body=[cst.Pass()])]\n",
        "    ),\n",
        "    handlers=[except_clause]\n",
        ")\n",
        "\n",
        "print(cst.Module([try_stmt]).code)\n"
      ],
      "metadata": {
        "colab": {
          "base_uri": "https://localhost:8080/"
        },
        "id": "aHzq27XoBkW-",
        "outputId": "fa1c6500-f43f-4aca-eb01-e00cb2382f0a"
      },
      "execution_count": 137,
      "outputs": [
        {
          "output_type": "stream",
          "name": "stdout",
          "text": [
            "try:\n",
            "    pass\n",
            "except Exception :\n",
            "    pass\n",
            "\n"
          ]
        }
      ]
    },
    {
      "cell_type": "markdown",
      "source": [
        "#### Finally"
      ],
      "metadata": {
        "id": "WKyAETqkB13E"
      }
    },
    {
      "cell_type": "code",
      "source": [
        "finally_clause = cst.Finally(\n",
        "    body=cst.IndentedBlock(\n",
        "        body=[cst.SimpleStatementLine(body=[cst.Pass()])]\n",
        "    ),\n",
        "    whitespace_before_colon=cst.SimpleWhitespace(\" \"),\n",
        ")\n",
        "\n",
        "try_stmt = cst.Try(\n",
        "    body=cst.IndentedBlock(\n",
        "        body=[cst.SimpleStatementLine(body=[cst.Pass()])]\n",
        "    ),\n",
        "    finalbody=finally_clause\n",
        ")\n",
        "\n",
        "print(cst.Module([try_stmt]).code)\n"
      ],
      "metadata": {
        "colab": {
          "base_uri": "https://localhost:8080/"
        },
        "id": "i9VdNR2iB4VM",
        "outputId": "92791285-867d-4071-cce4-c3a38d7724d9"
      },
      "execution_count": 138,
      "outputs": [
        {
          "output_type": "stream",
          "name": "stdout",
          "text": [
            "try:\n",
            "    pass\n",
            "finally :\n",
            "    pass\n",
            "\n"
          ]
        }
      ]
    },
    {
      "cell_type": "markdown",
      "source": [
        "#### ImportAlias"
      ],
      "metadata": {
        "id": "cTwQqckeB8fL"
      }
    },
    {
      "cell_type": "code",
      "source": [
        "import_alias = cst.ImportAlias(\n",
        "    name=cst.Name(\"math\"),\n",
        "    asname=cst.AsName(\n",
        "        name=cst.Name(\"m\"),\n",
        "        whitespace_before_as=cst.SimpleWhitespace(\" \"),\n",
        "        whitespace_after_as=cst.SimpleWhitespace(\" \")\n",
        "    )\n",
        ")\n",
        "\n",
        "import_stmt = cst.Import(names=[import_alias])\n",
        "print(cst.Module([import_stmt]).code)\n"
      ],
      "metadata": {
        "colab": {
          "base_uri": "https://localhost:8080/"
        },
        "id": "Izcng62ZB5ne",
        "outputId": "b34c460e-6949-4bd6-d196-9c29b23e8352"
      },
      "execution_count": 141,
      "outputs": [
        {
          "output_type": "stream",
          "name": "stdout",
          "text": [
            "import math as m\n"
          ]
        }
      ]
    },
    {
      "cell_type": "markdown",
      "source": [
        "#### NameItem"
      ],
      "metadata": {
        "id": "W_ZoJNh8CcBi"
      }
    },
    {
      "cell_type": "code",
      "source": [
        "name_item = cst.NameItem(\n",
        "    name=cst.Name(\"var\"), \n",
        ")\n",
        "\n",
        "global_stmt = cst.Global(names=[name_item])\n",
        "print(cst.Module([global_stmt]).code)\n"
      ],
      "metadata": {
        "colab": {
          "base_uri": "https://localhost:8080/"
        },
        "id": "0Tv_QTkqCAZk",
        "outputId": "ed5893cb-dbd1-4550-85df-032fe5e45d5e"
      },
      "execution_count": 143,
      "outputs": [
        {
          "output_type": "stream",
          "name": "stdout",
          "text": [
            "global var\n"
          ]
        }
      ]
    },
    {
      "cell_type": "markdown",
      "source": [
        "### Statement Blocks\n",
        "Nodes that represent some group of statements."
      ],
      "metadata": {
        "id": "fQwxcf_1fHiE"
      }
    },
    {
      "cell_type": "markdown",
      "source": [
        "#### SimpleStatementLine"
      ],
      "metadata": {
        "id": "Cm-2G09WfQ9A"
      }
    },
    {
      "cell_type": "code",
      "source": [
        "import libcst as cst\n",
        "\n",
        "# Define multiple simple statements on a single line\n",
        "simple_statement_line = cst.SimpleStatementLine(\n",
        "    body=[\n",
        "        cst.Assign(\n",
        "            targets=[cst.AssignTarget(target=cst.Name(\"x\"))],\n",
        "            value=cst.Integer(\"1\"),\n",
        "        ),\n",
        "        cst.Assign(\n",
        "            targets=[cst.AssignTarget(target=cst.Name(\"y\"))],\n",
        "            value=cst.Integer(\"2\"),\n",
        "        ),\n",
        "    ]\n",
        ")\n",
        "\n",
        "# Print the corresponding code\n",
        "print(cst.Module([simple_statement_line]).code)\n",
        "# Output: x = 1; y = 2\n"
      ],
      "metadata": {
        "colab": {
          "base_uri": "https://localhost:8080/"
        },
        "id": "u2OyGumBfz7t",
        "outputId": "5ce1ac50-4a6e-41c8-ac2a-bf821d30b2dc"
      },
      "execution_count": 156,
      "outputs": [
        {
          "output_type": "stream",
          "name": "stdout",
          "text": [
            "x = 1; y = 2\n",
            "\n"
          ]
        }
      ]
    },
    {
      "cell_type": "markdown",
      "source": [
        "#### SimpleStatementSuite"
      ],
      "metadata": {
        "id": "WLqHXNTMfb-P"
      }
    },
    {
      "cell_type": "code",
      "source": [
        "# Define a simple statement suite as part of an if statement\n",
        "simple_statement_suite = cst.SimpleStatementSuite(\n",
        "    body=[\n",
        "        cst.Assign(\n",
        "            targets=[cst.AssignTarget(target=cst.Name(\"x\"))],\n",
        "            value=cst.Integer(\"1\"),\n",
        "        ),\n",
        "        cst.Assign(\n",
        "            targets=[cst.AssignTarget(target=cst.Name(\"y\"))],\n",
        "            value=cst.Integer(\"2\"),\n",
        "        ),\n",
        "    ]\n",
        ")\n",
        "\n",
        "# Create an if statement with the simple statement suite\n",
        "if_statement = cst.If(\n",
        "    test=cst.Name(\"condition\"),\n",
        "    body=simple_statement_suite,\n",
        ")\n",
        "\n",
        "# Print the corresponding code\n",
        "print(cst.Module([if_statement]).code)\n",
        "# Output: if condition: x = 1; y = 2\n"
      ],
      "metadata": {
        "colab": {
          "base_uri": "https://localhost:8080/"
        },
        "id": "qjmnwxSofTjd",
        "outputId": "32592689-8748-4cbc-b671-53a7721be7af"
      },
      "execution_count": 157,
      "outputs": [
        {
          "output_type": "stream",
          "name": "stdout",
          "text": [
            "if condition: x = 1; y = 2\n",
            "\n"
          ]
        }
      ]
    },
    {
      "cell_type": "markdown",
      "source": [
        "#### IndentedBlock"
      ],
      "metadata": {
        "id": "0E4K7GRefl2K"
      }
    },
    {
      "cell_type": "code",
      "source": [
        "# Define an indented block as part of an if-else statement\n",
        "indented_block_if = cst.IndentedBlock(\n",
        "    body=[\n",
        "        cst.SimpleStatementLine(\n",
        "            body=[\n",
        "                cst.Assign(\n",
        "                    targets=[cst.AssignTarget(target=cst.Name(\"x\"))],\n",
        "                    value=cst.Integer(\"1\"),\n",
        "                )\n",
        "            ]\n",
        "        )\n",
        "    ]\n",
        ")\n",
        "\n",
        "indented_block_else = cst.IndentedBlock(\n",
        "    body=[\n",
        "        cst.SimpleStatementLine(\n",
        "            body=[\n",
        "                cst.Assign(\n",
        "                    targets=[cst.AssignTarget(target=cst.Name(\"x\"))],\n",
        "                    value=cst.Integer(\"2\"),\n",
        "                )\n",
        "            ]\n",
        "        )\n",
        "    ]\n",
        ")\n",
        "\n",
        "# Create an if-else statement with the indented blocks\n",
        "if_statement = cst.If(\n",
        "    test=cst.Name(\"condition\"),\n",
        "    body=indented_block_if,\n",
        "    orelse=cst.Else(\n",
        "        body=indented_block_else,\n",
        "    ),\n",
        ")\n",
        "\n",
        "# Print the corresponding code\n",
        "print(cst.Module([if_statement]).code)\n",
        "\n"
      ],
      "metadata": {
        "colab": {
          "base_uri": "https://localhost:8080/"
        },
        "id": "0dui7Lazfg6A",
        "outputId": "c87d85e6-e5ac-4722-fddc-4dcd972f8e15"
      },
      "execution_count": 159,
      "outputs": [
        {
          "output_type": "stream",
          "name": "stdout",
          "text": [
            "if condition:\n",
            "    x = 1\n",
            "else:\n",
            "    x = 2\n",
            "\n"
          ]
        }
      ]
    },
    {
      "cell_type": "markdown",
      "source": [
        "## Operators"
      ],
      "metadata": {
        "id": "UQTpGjvMgZkb"
      }
    },
    {
      "cell_type": "markdown",
      "source": [
        "### Unary Operators"
      ],
      "metadata": {
        "id": "PKRMoXMggklT"
      }
    },
    {
      "cell_type": "code",
      "source": [
        "import libcst as cst\n",
        "\n",
        "# Example of using Not operator\n",
        "not_op = cst.UnaryOperation(\n",
        "    operator=cst.Not(),\n",
        "    expression=cst.Name(\"condition\")\n",
        ")\n",
        "\n",
        "print(cst.Module([not_op]).code)\n",
        "# Output: not condition\n"
      ],
      "metadata": {
        "colab": {
          "base_uri": "https://localhost:8080/"
        },
        "id": "qDy0WPywfoDj",
        "outputId": "f4a98a67-fa0b-4460-b50c-dede7de88332"
      },
      "execution_count": 161,
      "outputs": [
        {
          "output_type": "stream",
          "name": "stdout",
          "text": [
            "not condition\n"
          ]
        }
      ]
    },
    {
      "cell_type": "markdown",
      "source": [
        "### Boolean Operators"
      ],
      "metadata": {
        "id": "HFhqE_KLg08R"
      }
    },
    {
      "cell_type": "code",
      "source": [
        "# Example of using And operator\n",
        "and_op = cst.BooleanOperation(\n",
        "    left=cst.Name(\"condition1\"),\n",
        "    operator=cst.And(),\n",
        "    right=cst.Name(\"condition2\"),\n",
        ")\n",
        "\n",
        "print(cst.Module([and_op]).code)\n",
        "# Output: condition1 and condition2\n"
      ],
      "metadata": {
        "colab": {
          "base_uri": "https://localhost:8080/"
        },
        "id": "Jt3GLXsXgo7n",
        "outputId": "6f9b18f2-59eb-4e59-a67e-6c01a84636f4"
      },
      "execution_count": 162,
      "outputs": [
        {
          "output_type": "stream",
          "name": "stdout",
          "text": [
            "condition1 and condition2\n"
          ]
        }
      ]
    },
    {
      "cell_type": "markdown",
      "source": [
        "### Binary Operators"
      ],
      "metadata": {
        "id": "VUjVdHv_g6M9"
      }
    },
    {
      "cell_type": "code",
      "source": [
        "# Example of using Add operator\n",
        "add_op = cst.BinaryOperation(\n",
        "    left=cst.Integer(\"1\"),\n",
        "    operator=cst.Add(),\n",
        "    right=cst.Integer(\"2\"),\n",
        ")\n",
        "\n",
        "print(cst.Module([add_op]).code)\n",
        "# Output: 1 + 2\n"
      ],
      "metadata": {
        "colab": {
          "base_uri": "https://localhost:8080/"
        },
        "id": "kX_Dv-fOg5QQ",
        "outputId": "960c3037-7754-4ddb-994f-7d438fd087c9"
      },
      "execution_count": 163,
      "outputs": [
        {
          "output_type": "stream",
          "name": "stdout",
          "text": [
            "1 + 2\n"
          ]
        }
      ]
    },
    {
      "cell_type": "code",
      "source": [
        "# (a + b) * (c - d) / e\n",
        "import libcst as cst\n",
        "\n",
        "arith_expression = cst.BinaryOperation(\n",
        "    left=cst.BinaryOperation(\n",
        "        left=cst.Name(\"a\"),\n",
        "        operator=cst.Add(),\n",
        "        right=cst.Name(\"b\")\n",
        "    ),\n",
        "    operator=cst.Multiply(),\n",
        "    right=cst.BinaryOperation(\n",
        "        left=cst.Name(\"c\"),\n",
        "        operator=cst.Subtract(),\n",
        "        right=cst.Name(\"d\")\n",
        "    )\n",
        ")\n",
        "\n",
        "arith_expression = cst.BinaryOperation(\n",
        "    left=arith_expression,\n",
        "    operator=cst.Divide(),\n",
        "    right=cst.Name(\"e\")\n",
        ")\n",
        "\n",
        "print(cst.Module([arith_expression]).code)\n",
        "# Output: (a + b) * (c - d) / e\n"
      ],
      "metadata": {
        "colab": {
          "base_uri": "https://localhost:8080/"
        },
        "id": "MnWWCZm2hbTO",
        "outputId": "8784983a-aab3-4cea-bbcd-13278e948083"
      },
      "execution_count": 166,
      "outputs": [
        {
          "output_type": "stream",
          "name": "stdout",
          "text": [
            "a + b * c - d / e\n"
          ]
        }
      ]
    },
    {
      "cell_type": "code",
      "source": [
        "import libcst as cst\n",
        "\n",
        "# A @ B\n",
        "matrix_mul = cst.BinaryOperation(\n",
        "    left=cst.Name(\"A\"),\n",
        "    operator=cst.MatrixMultiply(),\n",
        "    right=cst.Name(\"B\"),\n",
        ")\n",
        "\n",
        "print(cst.Module([matrix_mul]).code)\n",
        "# Output: A @ B\n"
      ],
      "metadata": {
        "colab": {
          "base_uri": "https://localhost:8080/"
        },
        "id": "xwtI69fth0xy",
        "outputId": "5302398f-2b31-4325-9773-4c8d61638d5c"
      },
      "execution_count": 169,
      "outputs": [
        {
          "output_type": "stream",
          "name": "stdout",
          "text": [
            "A @ B\n"
          ]
        }
      ]
    },
    {
      "cell_type": "code",
      "source": [
        "# C = A @ B + D\n",
        "matrix_mul_and_add = cst.Assign(\n",
        "    targets=[cst.AssignTarget(target=cst.Name(\"C\"))],\n",
        "    value=cst.BinaryOperation(\n",
        "        left=cst.BinaryOperation(\n",
        "            left=cst.Name(\"A\"),\n",
        "            operator=cst.MatrixMultiply(),\n",
        "            right=cst.Name(\"B\"),\n",
        "        ),\n",
        "        operator=cst.Add(),\n",
        "        right=cst.Name(\"D\"),\n",
        "    ),\n",
        ")\n",
        "\n",
        "print(cst.Module([matrix_mul_and_add]).code)\n",
        "# Output: C = A @ B + D\n"
      ],
      "metadata": {
        "colab": {
          "base_uri": "https://localhost:8080/"
        },
        "id": "ANnn24Pgh3Re",
        "outputId": "36dbaa12-dbbc-4a75-d45a-213e3f8349ba"
      },
      "execution_count": 170,
      "outputs": [
        {
          "output_type": "stream",
          "name": "stdout",
          "text": [
            "C = A @ B + D\n"
          ]
        }
      ]
    },
    {
      "cell_type": "markdown",
      "source": [
        "### Comparison Operators"
      ],
      "metadata": {
        "id": "TXbdFg2-g_J5"
      }
    },
    {
      "cell_type": "code",
      "source": [
        "# Example of using GreaterThan operator\n",
        "gt_op = cst.Comparison(\n",
        "    left=cst.Integer(\"1\"),\n",
        "    comparisons=[\n",
        "        cst.ComparisonTarget(\n",
        "            operator=cst.GreaterThan(),\n",
        "            comparator=cst.Integer(\"0\"),\n",
        "        )\n",
        "    ]\n",
        ")\n",
        "\n",
        "print(cst.Module([gt_op]).code)\n",
        "# Output: 1 > 0\n"
      ],
      "metadata": {
        "colab": {
          "base_uri": "https://localhost:8080/"
        },
        "id": "J8uNZp8Dg9xZ",
        "outputId": "486332a7-02e2-42de-bbd2-ef56c4366dfc"
      },
      "execution_count": 164,
      "outputs": [
        {
          "output_type": "stream",
          "name": "stdout",
          "text": [
            "1 > 0\n"
          ]
        }
      ]
    },
    {
      "cell_type": "code",
      "source": [
        "# (a > b) and (c < d) or (e == f)\n",
        "comp_expression = cst.BooleanOperation(\n",
        "    left=cst.BooleanOperation(\n",
        "        left=cst.Comparison(\n",
        "            left=cst.Name(\"a\"),\n",
        "            comparisons=[\n",
        "                cst.ComparisonTarget(\n",
        "                    operator=cst.GreaterThan(),\n",
        "                    comparator=cst.Name(\"b\")\n",
        "                )\n",
        "            ]\n",
        "        ),\n",
        "        operator=cst.And(),\n",
        "        right=cst.Comparison(\n",
        "            left=cst.Name(\"c\"),\n",
        "            comparisons=[\n",
        "                cst.ComparisonTarget(\n",
        "                    operator=cst.LessThan(),\n",
        "                    comparator=cst.Name(\"d\")\n",
        "                )\n",
        "            ]\n",
        "        )\n",
        "    ),\n",
        "    operator=cst.Or(),\n",
        "    right=cst.Comparison(\n",
        "        left=cst.Name(\"e\"),\n",
        "        comparisons=[\n",
        "            cst.ComparisonTarget(\n",
        "                operator=cst.Equal(),\n",
        "                comparator=cst.Name(\"f\")\n",
        "            )\n",
        "        ]\n",
        "    )\n",
        ")\n",
        "\n",
        "print(cst.Module([comp_expression]).code)\n",
        "# Output: (a > b) and (c < d) or (e == f)\n"
      ],
      "metadata": {
        "colab": {
          "base_uri": "https://localhost:8080/"
        },
        "id": "sMkmsnhbhe_E",
        "outputId": "f322b830-853a-4916-d886-9c287f7e1c45"
      },
      "execution_count": 167,
      "outputs": [
        {
          "output_type": "stream",
          "name": "stdout",
          "text": [
            "a > b and c < d or e == f\n"
          ]
        }
      ]
    },
    {
      "cell_type": "markdown",
      "source": [
        "### Augmented Assignment Operators"
      ],
      "metadata": {
        "id": "YF49bnkthFIy"
      }
    },
    {
      "cell_type": "code",
      "source": [
        "# Example of using AddAssign operator\n",
        "add_assign_op = cst.AugAssign(\n",
        "    target=cst.Name(\"x\"),\n",
        "    operator=cst.AddAssign(),\n",
        "    value=cst.Integer(\"1\"),\n",
        ")\n",
        "\n",
        "print(cst.Module([add_assign_op]).code)\n",
        "# Output: x += 1\n"
      ],
      "metadata": {
        "colab": {
          "base_uri": "https://localhost:8080/"
        },
        "id": "LwZuigaShCoQ",
        "outputId": "d31cb42f-9ca0-4c23-8c54-9e8c60e26570"
      },
      "execution_count": 165,
      "outputs": [
        {
          "output_type": "stream",
          "name": "stdout",
          "text": [
            "x += 1\n"
          ]
        }
      ]
    },
    {
      "cell_type": "code",
      "source": [
        "# x = -((a + b) / 2)\n",
        "# x *= y\n",
        "unary_assign_expression = cst.SimpleStatementLine(\n",
        "    body=[\n",
        "        cst.Assign(\n",
        "            targets=[cst.AssignTarget(target=cst.Name(\"x\"))],\n",
        "            value=cst.UnaryOperation(\n",
        "                operator=cst.Minus(),\n",
        "                expression=cst.BinaryOperation(\n",
        "                    left=cst.BinaryOperation(\n",
        "                        left=cst.Name(\"a\"),\n",
        "                        operator=cst.Add(),\n",
        "                        right=cst.Name(\"b\")\n",
        "                    ),\n",
        "                    operator=cst.Divide(),\n",
        "                    right=cst.Integer(\"2\")\n",
        "                )\n",
        "            )\n",
        "        ),\n",
        "        cst.AugAssign(\n",
        "            target=cst.Name(\"x\"),\n",
        "            operator=cst.MultiplyAssign(),\n",
        "            value=cst.Name(\"y\")\n",
        "        )\n",
        "    ]\n",
        ")\n",
        "\n",
        "print(cst.Module([unary_assign_expression]).code)\n",
        "# Output: x = -((a + b) / 2); x *= y\n"
      ],
      "metadata": {
        "colab": {
          "base_uri": "https://localhost:8080/"
        },
        "id": "5DZl24cdhlS6",
        "outputId": "763998d5-b240-4795-fa9b-210f812838bc"
      },
      "execution_count": 168,
      "outputs": [
        {
          "output_type": "stream",
          "name": "stdout",
          "text": [
            "x = -a + b / 2; x *= y\n",
            "\n"
          ]
        }
      ]
    },
    {
      "cell_type": "code",
      "source": [],
      "metadata": {
        "id": "H_dNfs3MhIGC"
      },
      "execution_count": null,
      "outputs": []
    }
  ]
}